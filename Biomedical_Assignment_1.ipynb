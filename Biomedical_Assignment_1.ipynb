{
  "nbformat": 4,
  "nbformat_minor": 0,
  "metadata": {
    "colab": {
      "provenance": []
    },
    "kernelspec": {
      "name": "python3",
      "display_name": "Python 3"
    },
    "language_info": {
      "name": "python"
    }
  },
  "cells": [
    {
      "cell_type": "markdown",
      "source": [
        "# **Question** **1**\n",
        "**1. The ECG signal is given in MATLAB file format as “givenECG3.mat”. Sampling\n",
        "frequency is 360 Hz.\n",
        "(a) Detect the R-peak in each beat of the ECG signal.\n",
        "(b) Evaluate the RR-interval between the consecutive beats of the ECG signal.\n",
        "(c) Derive the heart rate signal from the ECG (i.e., Plot between the RR-interval\n",
        "and time).\n",
        "(d) Evaluate the mean and standard deviation value of the heart rate signal.**"
      ],
      "metadata": {
        "id": "V91wtV_xddYV"
      }
    },
    {
      "cell_type": "code",
      "source": [
        "#Detect R peak in ECG signal\n",
        "import scipy.io\n",
        "mat = scipy.io.loadmat('givenECG3.mat')"
      ],
      "metadata": {
        "id": "behPBlHtjVVD"
      },
      "execution_count": 1,
      "outputs": []
    },
    {
      "cell_type": "code",
      "source": [
        "mat"
      ],
      "metadata": {
        "id": "6O_tYhaOjuuV",
        "colab": {
          "base_uri": "https://localhost:8080/"
        },
        "outputId": "fbb10411-1859-405e-878b-2e81858fbdd1"
      },
      "execution_count": 2,
      "outputs": [
        {
          "output_type": "execute_result",
          "data": {
            "text/plain": [
              "{'__header__': b'MATLAB 5.0 MAT-file, Platform: PCWIN64, Created on: Tue Jan 10 19:30:32 2017',\n",
              " '__version__': '1.0',\n",
              " '__globals__': [],\n",
              " 'givenECG3': array([[995, 995, 995, ..., 946, 944, 943]], dtype=uint16)}"
            ]
          },
          "metadata": {},
          "execution_count": 2
        }
      ]
    },
    {
      "cell_type": "code",
      "source": [
        "p = mat['givenECG3']"
      ],
      "metadata": {
        "id": "M6-vRUvEN-Wz"
      },
      "execution_count": 3,
      "outputs": []
    },
    {
      "cell_type": "code",
      "source": [
        "len(mat['givenECG3'][0])"
      ],
      "metadata": {
        "colab": {
          "base_uri": "https://localhost:8080/"
        },
        "id": "gKw7h1bLOF5v",
        "outputId": "6468e25f-0ba3-4d3a-fb92-0656ce3b6c24"
      },
      "execution_count": 4,
      "outputs": [
        {
          "output_type": "execute_result",
          "data": {
            "text/plain": [
              "3600"
            ]
          },
          "metadata": {},
          "execution_count": 4
        }
      ]
    },
    {
      "cell_type": "code",
      "source": [
        "import matplotlib.pyplot as plt\n"
      ],
      "metadata": {
        "id": "EuTuKVymOJgs"
      },
      "execution_count": 5,
      "outputs": []
    },
    {
      "cell_type": "code",
      "source": [
        "pip install ecg-plot"
      ],
      "metadata": {
        "colab": {
          "base_uri": "https://localhost:8080/"
        },
        "id": "rY1JgZjtOhu6",
        "outputId": "29550adf-5675-4050-b244-73757b3598b4"
      },
      "execution_count": 6,
      "outputs": [
        {
          "output_type": "stream",
          "name": "stdout",
          "text": [
            "Looking in indexes: https://pypi.org/simple, https://us-python.pkg.dev/colab-wheels/public/simple/\n",
            "Collecting ecg-plot\n",
            "  Downloading ecg_plot-0.2.8-py3-none-any.whl (9.2 kB)\n",
            "Installing collected packages: ecg-plot\n",
            "Successfully installed ecg-plot-0.2.8\n"
          ]
        }
      ]
    },
    {
      "cell_type": "code",
      "source": [
        "import matplotlib.pyplot as plt\n",
        "import numpy as np\n",
        "import scipy.io as sio\n",
        "\n",
        "ecg = sio.loadmat('givenECG3.mat')['givenECG3'].reshape((-1))\n",
        "print(ecg)\n",
        "fs = 360\n",
        "time = np.arange(ecg.size) / fs\n",
        "plt.plot(time, ecg)\n",
        "plt.xlabel(\"time in s\")\n",
        "plt.ylabel(\"ECG in mV\")\n",
        "plt.show()"
      ],
      "metadata": {
        "colab": {
          "base_uri": "https://localhost:8080/",
          "height": 296
        },
        "id": "9WoF2oNcOmCr",
        "outputId": "a1856866-b4f0-46d2-dd55-8da193c5def2"
      },
      "execution_count": 7,
      "outputs": [
        {
          "output_type": "stream",
          "name": "stdout",
          "text": [
            "[995 995 995 ... 946 944 943]\n"
          ]
        },
        {
          "output_type": "display_data",
          "data": {
            "text/plain": [
              "<Figure size 432x288 with 1 Axes>"
            ],
            "image/png": "[encoded data removed]"
          },
          "metadata": {
            "needs_background": "light"
          }
        }
      ]
    },
    {
      "cell_type": "code",
      "source": [
        "r_peak1 = []\n",
        "for i in range(ecg.size):\n",
        "  if(ecg[i] > 1100):\n",
        "    r_peak1.append([ecg[i],i])\n",
        "r_peak1 = np.array(r_peak1)"
      ],
      "metadata": {
        "id": "QCH635CvPVg_"
      },
      "execution_count": 8,
      "outputs": []
    },
    {
      "cell_type": "code",
      "source": [
        "r_peak1"
      ],
      "metadata": {
        "colab": {
          "base_uri": "https://localhost:8080/"
        },
        "id": "3y6Nt5-MRx3S",
        "outputId": "78dbc250-3bff-4e56-b652-37a0b2ca48e0"
      },
      "execution_count": 9,
      "outputs": [
        {
          "output_type": "execute_result",
          "data": {
            "text/plain": [
              "array([[1148,   75],\n",
              "       [1180,   76],\n",
              "       [1192,   77],\n",
              "       [1177,   78],\n",
              "       [1128,   79],\n",
              "       [1122,  367],\n",
              "       [1168,  368],\n",
              "       [1199,  369],\n",
              "       [1212,  370],\n",
              "       [1205,  371],\n",
              "       [1175,  372],\n",
              "       [1122,  373],\n",
              "       [1106,  660],\n",
              "       [1162,  661],\n",
              "       [1201,  662],\n",
              "       [1216,  663],\n",
              "       [1194,  664],\n",
              "       [1128,  665],\n",
              "       [1151,  945],\n",
              "       [1186,  946],\n",
              "       [1196,  947],\n",
              "       [1178,  948],\n",
              "       [1119,  949],\n",
              "       [1119, 1229],\n",
              "       [1165, 1230],\n",
              "       [1188, 1231],\n",
              "       [1180, 1232],\n",
              "       [1131, 1233],\n",
              "       [1143, 1513],\n",
              "       [1184, 1514],\n",
              "       [1201, 1515],\n",
              "       [1183, 1516],\n",
              "       [1128, 1517],\n",
              "       [1140, 1807],\n",
              "       [1186, 1808],\n",
              "       [1213, 1809],\n",
              "       [1208, 1810],\n",
              "       [1179, 1811],\n",
              "       [1113, 1812],\n",
              "       [1126, 2042],\n",
              "       [1171, 2043],\n",
              "       [1193, 2044],\n",
              "       [1199, 2045],\n",
              "       [1171, 2046],\n",
              "       [1104, 2047],\n",
              "       [1121, 2400],\n",
              "       [1167, 2401],\n",
              "       [1193, 2402],\n",
              "       [1201, 2403],\n",
              "       [1182, 2404],\n",
              "       [1136, 2405],\n",
              "       [1144, 2704],\n",
              "       [1186, 2705],\n",
              "       [1202, 2706],\n",
              "       [1190, 2707],\n",
              "       [1140, 2708],\n",
              "       [1109, 2995],\n",
              "       [1161, 2996],\n",
              "       [1199, 2997],\n",
              "       [1209, 2998],\n",
              "       [1183, 2999],\n",
              "       [1118, 3000],\n",
              "       [1155, 3281],\n",
              "       [1188, 3282],\n",
              "       [1197, 3283],\n",
              "       [1171, 3284],\n",
              "       [1114, 3285],\n",
              "       [1147, 3558],\n",
              "       [1180, 3559],\n",
              "       [1191, 3560],\n",
              "       [1168, 3561],\n",
              "       [1106, 3562]])"
            ]
          },
          "metadata": {},
          "execution_count": 9
        }
      ]
    },
    {
      "cell_type": "code",
      "source": [
        "r_peak = []\n",
        "n = len(r_peak1)\n",
        "print(n)\n",
        "for j in range(1,n-1):\n",
        "   if(r_peak1[j][0] > r_peak1[j-1][0] and r_peak1[j][0] > r_peak1[j+1][0]):\n",
        "     r_peak.append([r_peak1[j][0],r_peak1[j][1]])\n",
        "r_peak\n",
        "print(len(r_peak))\n",
        "print(r_peak)"
      ],
      "metadata": {
        "colab": {
          "base_uri": "https://localhost:8080/"
        },
        "id": "dFHnMEeAR-SS",
        "outputId": "1ce64fa1-b0e7-4e44-adbc-f286639ad6dc"
      },
      "execution_count": 10,
      "outputs": [
        {
          "output_type": "stream",
          "name": "stdout",
          "text": [
            "72\n",
            "13\n",
            "[[1192, 77], [1212, 370], [1216, 663], [1196, 947], [1188, 1231], [1201, 1515], [1213, 1809], [1199, 2045], [1201, 2403], [1202, 2706], [1209, 2998], [1197, 3283], [1191, 3560]]\n"
          ]
        }
      ]
    },
    {
      "cell_type": "code",
      "source": [
        "r_peak_final = [0]*ecg.size\n",
        "index = []\n",
        "for i in range(len(r_peak)):\n",
        "  index.append(r_peak[i][1])\n",
        "print(index)\n",
        "for j in range(ecg.size):\n",
        "  if(j in index):\n",
        "     y = index.index(j)\n",
        "     print(j,y)\n",
        "     r_peak_final[j] = r_peak[y][0]\n",
        "  else:\n",
        "    r_peak_final[j] = 1180\n",
        "r_peak_final\n",
        "# for j in range(len(r_peak_final)):\n",
        "#   if(r_peak_final[j] !=0):\n",
        "#     print(j)\n"
      ],
      "metadata": {
        "colab": {
          "base_uri": "https://localhost:8080/"
        },
        "id": "l7PsuCgV1lOC",
        "outputId": "285f9c15-5d1a-4892-b330-730ce4bb99b4"
      },
      "execution_count": 11,
      "outputs": [
        {
          "output_type": "stream",
          "name": "stdout",
          "text": [
            "[77, 370, 663, 947, 1231, 1515, 1809, 2045, 2403, 2706, 2998, 3283, 3560]\n",
            "77 0\n",
            "370 1\n",
            "663 2\n",
            "947 3\n",
            "1231 4\n",
            "1515 5\n",
            "1809 6\n",
            "2045 7\n",
            "2403 8\n",
            "2706 9\n",
            "2998 10\n",
            "3283 11\n",
            "3560 12\n"
          ]
        },
        {
          "output_type": "execute_result",
          "data": {
            "text/plain": [
              "[1180,\n",
              " 1180,\n",
              " 1180,\n",
              " 1180,\n",
              " 1180,\n",
              " 1180,\n",
              " 1180,\n",
              " 1180,\n",
              " 1180,\n",
              " 1180,\n",
              " 1180,\n",
              " 1180,\n",
              " 1180,\n",
              " 1180,\n",
              " 1180,\n",
              " 1180,\n",
              " 1180,\n",
              " 1180,\n",
              " 1180,\n",
              " 1180,\n",
              " 1180,\n",
              " 1180,\n",
              " 1180,\n",
              " 1180,\n",
              " 1180,\n",
              " 1180,\n",
              " 1180,\n",
              " 1180,\n",
              " 1180,\n",
              " 1180,\n",
              " 1180,\n",
              " 1180,\n",
              " 1180,\n",
              " 1180,\n",
              " 1180,\n",
              " 1180,\n",
              " 1180,\n",
              " 1180,\n",
              " 1180,\n",
              " 1180,\n",
              " 1180,\n",
              " 1180,\n",
              " 1180,\n",
              " 1180,\n",
              " 1180,\n",
              " 1180,\n",
              " 1180,\n",
              " 1180,\n",
              " 1180,\n",
              " 1180,\n",
              " 1180,\n",
              " 1180,\n",
              " 1180,\n",
              " 1180,\n",
              " 1180,\n",
              " 1180,\n",
              " 1180,\n",
              " 1180,\n",
              " 1180,\n",
              " 1180,\n",
              " 1180,\n",
              " 1180,\n",
              " 1180,\n",
              " 1180,\n",
              " 1180,\n",
              " 1180,\n",
              " 1180,\n",
              " 1180,\n",
              " 1180,\n",
              " 1180,\n",
              " 1180,\n",
              " 1180,\n",
              " 1180,\n",
              " 1180,\n",
              " 1180,\n",
              " 1180,\n",
              " 1180,\n",
              " 1192,\n",
              " 1180,\n",
              " 1180,\n",
              " 1180,\n",
              " 1180,\n",
              " 1180,\n",
              " 1180,\n",
              " 1180,\n",
              " 1180,\n",
              " 1180,\n",
              " 1180,\n",
              " 1180,\n",
              " 1180,\n",
              " 1180,\n",
              " 1180,\n",
              " 1180,\n",
              " 1180,\n",
              " 1180,\n",
              " 1180,\n",
              " 1180,\n",
              " 1180,\n",
              " 1180,\n",
              " 1180,\n",
              " 1180,\n",
              " 1180,\n",
              " 1180,\n",
              " 1180,\n",
              " 1180,\n",
              " 1180,\n",
              " 1180,\n",
              " 1180,\n",
              " 1180,\n",
              " 1180,\n",
              " 1180,\n",
              " 1180,\n",
              " 1180,\n",
              " 1180,\n",
              " 1180,\n",
              " 1180,\n",
              " 1180,\n",
              " 1180,\n",
              " 1180,\n",
              " 1180,\n",
              " 1180,\n",
              " 1180,\n",
              " 1180,\n",
              " 1180,\n",
              " 1180,\n",
              " 1180,\n",
              " 1180,\n",
              " 1180,\n",
              " 1180,\n",
              " 1180,\n",
              " 1180,\n",
              " 1180,\n",
              " 1180,\n",
              " 1180,\n",
              " 1180,\n",
              " 1180,\n",
              " 1180,\n",
              " 1180,\n",
              " 1180,\n",
              " 1180,\n",
              " 1180,\n",
              " 1180,\n",
              " 1180,\n",
              " 1180,\n",
              " 1180,\n",
              " 1180,\n",
              " 1180,\n",
              " 1180,\n",
              " 1180,\n",
              " 1180,\n",
              " 1180,\n",
              " 1180,\n",
              " 1180,\n",
              " 1180,\n",
              " 1180,\n",
              " 1180,\n",
              " 1180,\n",
              " 1180,\n",
              " 1180,\n",
              " 1180,\n",
              " 1180,\n",
              " 1180,\n",
              " 1180,\n",
              " 1180,\n",
              " 1180,\n",
              " 1180,\n",
              " 1180,\n",
              " 1180,\n",
              " 1180,\n",
              " 1180,\n",
              " 1180,\n",
              " 1180,\n",
              " 1180,\n",
              " 1180,\n",
              " 1180,\n",
              " 1180,\n",
              " 1180,\n",
              " 1180,\n",
              " 1180,\n",
              " 1180,\n",
              " 1180,\n",
              " 1180,\n",
              " 1180,\n",
              " 1180,\n",
              " 1180,\n",
              " 1180,\n",
              " 1180,\n",
              " 1180,\n",
              " 1180,\n",
              " 1180,\n",
              " 1180,\n",
              " 1180,\n",
              " 1180,\n",
              " 1180,\n",
              " 1180,\n",
              " 1180,\n",
              " 1180,\n",
              " 1180,\n",
              " 1180,\n",
              " 1180,\n",
              " 1180,\n",
              " 1180,\n",
              " 1180,\n",
              " 1180,\n",
              " 1180,\n",
              " 1180,\n",
              " 1180,\n",
              " 1180,\n",
              " 1180,\n",
              " 1180,\n",
              " 1180,\n",
              " 1180,\n",
              " 1180,\n",
              " 1180,\n",
              " 1180,\n",
              " 1180,\n",
              " 1180,\n",
              " 1180,\n",
              " 1180,\n",
              " 1180,\n",
              " 1180,\n",
              " 1180,\n",
              " 1180,\n",
              " 1180,\n",
              " 1180,\n",
              " 1180,\n",
              " 1180,\n",
              " 1180,\n",
              " 1180,\n",
              " 1180,\n",
              " 1180,\n",
              " 1180,\n",
              " 1180,\n",
              " 1180,\n",
              " 1180,\n",
              " 1180,\n",
              " 1180,\n",
              " 1180,\n",
              " 1180,\n",
              " 1180,\n",
              " 1180,\n",
              " 1180,\n",
              " 1180,\n",
              " 1180,\n",
              " 1180,\n",
              " 1180,\n",
              " 1180,\n",
              " 1180,\n",
              " 1180,\n",
              " 1180,\n",
              " 1180,\n",
              " 1180,\n",
              " 1180,\n",
              " 1180,\n",
              " 1180,\n",
              " 1180,\n",
              " 1180,\n",
              " 1180,\n",
              " 1180,\n",
              " 1180,\n",
              " 1180,\n",
              " 1180,\n",
              " 1180,\n",
              " 1180,\n",
              " 1180,\n",
              " 1180,\n",
              " 1180,\n",
              " 1180,\n",
              " 1180,\n",
              " 1180,\n",
              " 1180,\n",
              " 1180,\n",
              " 1180,\n",
              " 1180,\n",
              " 1180,\n",
              " 1180,\n",
              " 1180,\n",
              " 1180,\n",
              " 1180,\n",
              " 1180,\n",
              " 1180,\n",
              " 1180,\n",
              " 1180,\n",
              " 1180,\n",
              " 1180,\n",
              " 1180,\n",
              " 1180,\n",
              " 1180,\n",
              " 1180,\n",
              " 1180,\n",
              " 1180,\n",
              " 1180,\n",
              " 1180,\n",
              " 1180,\n",
              " 1180,\n",
              " 1180,\n",
              " 1180,\n",
              " 1180,\n",
              " 1180,\n",
              " 1180,\n",
              " 1180,\n",
              " 1180,\n",
              " 1180,\n",
              " 1180,\n",
              " 1180,\n",
              " 1180,\n",
              " 1180,\n",
              " 1180,\n",
              " 1180,\n",
              " 1180,\n",
              " 1180,\n",
              " 1180,\n",
              " 1180,\n",
              " 1180,\n",
              " 1180,\n",
              " 1180,\n",
              " 1180,\n",
              " 1180,\n",
              " 1180,\n",
              " 1180,\n",
              " 1180,\n",
              " 1180,\n",
              " 1180,\n",
              " 1180,\n",
              " 1180,\n",
              " 1180,\n",
              " 1180,\n",
              " 1180,\n",
              " 1180,\n",
              " 1180,\n",
              " 1180,\n",
              " 1180,\n",
              " 1180,\n",
              " 1180,\n",
              " 1180,\n",
              " 1180,\n",
              " 1180,\n",
              " 1180,\n",
              " 1180,\n",
              " 1180,\n",
              " 1180,\n",
              " 1180,\n",
              " 1180,\n",
              " 1180,\n",
              " 1180,\n",
              " 1180,\n",
              " 1180,\n",
              " 1180,\n",
              " 1180,\n",
              " 1180,\n",
              " 1180,\n",
              " 1180,\n",
              " 1180,\n",
              " 1180,\n",
              " 1180,\n",
              " 1180,\n",
              " 1180,\n",
              " 1180,\n",
              " 1180,\n",
              " 1180,\n",
              " 1180,\n",
              " 1180,\n",
              " 1180,\n",
              " 1180,\n",
              " 1180,\n",
              " 1180,\n",
              " 1180,\n",
              " 1180,\n",
              " 1180,\n",
              " 1180,\n",
              " 1212,\n",
              " 1180,\n",
              " 1180,\n",
              " 1180,\n",
              " 1180,\n",
              " 1180,\n",
              " 1180,\n",
              " 1180,\n",
              " 1180,\n",
              " 1180,\n",
              " 1180,\n",
              " 1180,\n",
              " 1180,\n",
              " 1180,\n",
              " 1180,\n",
              " 1180,\n",
              " 1180,\n",
              " 1180,\n",
              " 1180,\n",
              " 1180,\n",
              " 1180,\n",
              " 1180,\n",
              " 1180,\n",
              " 1180,\n",
              " 1180,\n",
              " 1180,\n",
              " 1180,\n",
              " 1180,\n",
              " 1180,\n",
              " 1180,\n",
              " 1180,\n",
              " 1180,\n",
              " 1180,\n",
              " 1180,\n",
              " 1180,\n",
              " 1180,\n",
              " 1180,\n",
              " 1180,\n",
              " 1180,\n",
              " 1180,\n",
              " 1180,\n",
              " 1180,\n",
              " 1180,\n",
              " 1180,\n",
              " 1180,\n",
              " 1180,\n",
              " 1180,\n",
              " 1180,\n",
              " 1180,\n",
              " 1180,\n",
              " 1180,\n",
              " 1180,\n",
              " 1180,\n",
              " 1180,\n",
              " 1180,\n",
              " 1180,\n",
              " 1180,\n",
              " 1180,\n",
              " 1180,\n",
              " 1180,\n",
              " 1180,\n",
              " 1180,\n",
              " 1180,\n",
              " 1180,\n",
              " 1180,\n",
              " 1180,\n",
              " 1180,\n",
              " 1180,\n",
              " 1180,\n",
              " 1180,\n",
              " 1180,\n",
              " 1180,\n",
              " 1180,\n",
              " 1180,\n",
              " 1180,\n",
              " 1180,\n",
              " 1180,\n",
              " 1180,\n",
              " 1180,\n",
              " 1180,\n",
              " 1180,\n",
              " 1180,\n",
              " 1180,\n",
              " 1180,\n",
              " 1180,\n",
              " 1180,\n",
              " 1180,\n",
              " 1180,\n",
              " 1180,\n",
              " 1180,\n",
              " 1180,\n",
              " 1180,\n",
              " 1180,\n",
              " 1180,\n",
              " 1180,\n",
              " 1180,\n",
              " 1180,\n",
              " 1180,\n",
              " 1180,\n",
              " 1180,\n",
              " 1180,\n",
              " 1180,\n",
              " 1180,\n",
              " 1180,\n",
              " 1180,\n",
              " 1180,\n",
              " 1180,\n",
              " 1180,\n",
              " 1180,\n",
              " 1180,\n",
              " 1180,\n",
              " 1180,\n",
              " 1180,\n",
              " 1180,\n",
              " 1180,\n",
              " 1180,\n",
              " 1180,\n",
              " 1180,\n",
              " 1180,\n",
              " 1180,\n",
              " 1180,\n",
              " 1180,\n",
              " 1180,\n",
              " 1180,\n",
              " 1180,\n",
              " 1180,\n",
              " 1180,\n",
              " 1180,\n",
              " 1180,\n",
              " 1180,\n",
              " 1180,\n",
              " 1180,\n",
              " 1180,\n",
              " 1180,\n",
              " 1180,\n",
              " 1180,\n",
              " 1180,\n",
              " 1180,\n",
              " 1180,\n",
              " 1180,\n",
              " 1180,\n",
              " 1180,\n",
              " 1180,\n",
              " 1180,\n",
              " 1180,\n",
              " 1180,\n",
              " 1180,\n",
              " 1180,\n",
              " 1180,\n",
              " 1180,\n",
              " 1180,\n",
              " 1180,\n",
              " 1180,\n",
              " 1180,\n",
              " 1180,\n",
              " 1180,\n",
              " 1180,\n",
              " 1180,\n",
              " 1180,\n",
              " 1180,\n",
              " 1180,\n",
              " 1180,\n",
              " 1180,\n",
              " 1180,\n",
              " 1180,\n",
              " 1180,\n",
              " 1180,\n",
              " 1180,\n",
              " 1180,\n",
              " 1180,\n",
              " 1180,\n",
              " 1180,\n",
              " 1180,\n",
              " 1180,\n",
              " 1180,\n",
              " 1180,\n",
              " 1180,\n",
              " 1180,\n",
              " 1180,\n",
              " 1180,\n",
              " 1180,\n",
              " 1180,\n",
              " 1180,\n",
              " 1180,\n",
              " 1180,\n",
              " 1180,\n",
              " 1180,\n",
              " 1180,\n",
              " 1180,\n",
              " 1180,\n",
              " 1180,\n",
              " 1180,\n",
              " 1180,\n",
              " 1180,\n",
              " 1180,\n",
              " 1180,\n",
              " 1180,\n",
              " 1180,\n",
              " 1180,\n",
              " 1180,\n",
              " 1180,\n",
              " 1180,\n",
              " 1180,\n",
              " 1180,\n",
              " 1180,\n",
              " 1180,\n",
              " 1180,\n",
              " 1180,\n",
              " 1180,\n",
              " 1180,\n",
              " 1180,\n",
              " 1180,\n",
              " 1180,\n",
              " 1180,\n",
              " 1180,\n",
              " 1180,\n",
              " 1180,\n",
              " 1180,\n",
              " 1180,\n",
              " 1180,\n",
              " 1180,\n",
              " 1180,\n",
              " 1180,\n",
              " 1180,\n",
              " 1180,\n",
              " 1180,\n",
              " 1180,\n",
              " 1180,\n",
              " 1180,\n",
              " 1180,\n",
              " 1180,\n",
              " 1180,\n",
              " 1180,\n",
              " 1180,\n",
              " 1180,\n",
              " 1180,\n",
              " 1180,\n",
              " 1180,\n",
              " 1180,\n",
              " 1180,\n",
              " 1180,\n",
              " 1180,\n",
              " 1180,\n",
              " 1180,\n",
              " 1180,\n",
              " 1180,\n",
              " 1180,\n",
              " 1180,\n",
              " 1180,\n",
              " 1180,\n",
              " 1180,\n",
              " 1180,\n",
              " 1180,\n",
              " 1180,\n",
              " 1180,\n",
              " 1180,\n",
              " 1180,\n",
              " 1180,\n",
              " 1180,\n",
              " 1180,\n",
              " 1180,\n",
              " 1180,\n",
              " 1180,\n",
              " 1180,\n",
              " 1180,\n",
              " 1180,\n",
              " 1180,\n",
              " 1180,\n",
              " 1180,\n",
              " 1180,\n",
              " 1180,\n",
              " 1180,\n",
              " 1180,\n",
              " 1180,\n",
              " 1180,\n",
              " 1180,\n",
              " 1180,\n",
              " 1180,\n",
              " 1180,\n",
              " 1180,\n",
              " 1180,\n",
              " 1180,\n",
              " 1180,\n",
              " 1180,\n",
              " 1180,\n",
              " 1180,\n",
              " 1180,\n",
              " 1180,\n",
              " 1180,\n",
              " 1180,\n",
              " 1180,\n",
              " 1180,\n",
              " 1180,\n",
              " 1216,\n",
              " 1180,\n",
              " 1180,\n",
              " 1180,\n",
              " 1180,\n",
              " 1180,\n",
              " 1180,\n",
              " 1180,\n",
              " 1180,\n",
              " 1180,\n",
              " 1180,\n",
              " 1180,\n",
              " 1180,\n",
              " 1180,\n",
              " 1180,\n",
              " 1180,\n",
              " 1180,\n",
              " 1180,\n",
              " 1180,\n",
              " 1180,\n",
              " 1180,\n",
              " 1180,\n",
              " 1180,\n",
              " 1180,\n",
              " 1180,\n",
              " 1180,\n",
              " 1180,\n",
              " 1180,\n",
              " 1180,\n",
              " 1180,\n",
              " 1180,\n",
              " 1180,\n",
              " 1180,\n",
              " 1180,\n",
              " 1180,\n",
              " 1180,\n",
              " 1180,\n",
              " 1180,\n",
              " 1180,\n",
              " 1180,\n",
              " 1180,\n",
              " 1180,\n",
              " 1180,\n",
              " 1180,\n",
              " 1180,\n",
              " 1180,\n",
              " 1180,\n",
              " 1180,\n",
              " 1180,\n",
              " 1180,\n",
              " 1180,\n",
              " 1180,\n",
              " 1180,\n",
              " 1180,\n",
              " 1180,\n",
              " 1180,\n",
              " 1180,\n",
              " 1180,\n",
              " 1180,\n",
              " 1180,\n",
              " 1180,\n",
              " 1180,\n",
              " 1180,\n",
              " 1180,\n",
              " 1180,\n",
              " 1180,\n",
              " 1180,\n",
              " 1180,\n",
              " 1180,\n",
              " 1180,\n",
              " 1180,\n",
              " 1180,\n",
              " 1180,\n",
              " 1180,\n",
              " 1180,\n",
              " 1180,\n",
              " 1180,\n",
              " 1180,\n",
              " 1180,\n",
              " 1180,\n",
              " 1180,\n",
              " 1180,\n",
              " 1180,\n",
              " 1180,\n",
              " 1180,\n",
              " 1180,\n",
              " 1180,\n",
              " 1180,\n",
              " 1180,\n",
              " 1180,\n",
              " 1180,\n",
              " 1180,\n",
              " 1180,\n",
              " 1180,\n",
              " 1180,\n",
              " 1180,\n",
              " 1180,\n",
              " 1180,\n",
              " 1180,\n",
              " 1180,\n",
              " 1180,\n",
              " 1180,\n",
              " 1180,\n",
              " 1180,\n",
              " 1180,\n",
              " 1180,\n",
              " 1180,\n",
              " 1180,\n",
              " 1180,\n",
              " 1180,\n",
              " 1180,\n",
              " 1180,\n",
              " 1180,\n",
              " 1180,\n",
              " 1180,\n",
              " 1180,\n",
              " 1180,\n",
              " 1180,\n",
              " 1180,\n",
              " 1180,\n",
              " 1180,\n",
              " 1180,\n",
              " 1180,\n",
              " 1180,\n",
              " 1180,\n",
              " 1180,\n",
              " 1180,\n",
              " 1180,\n",
              " 1180,\n",
              " 1180,\n",
              " 1180,\n",
              " 1180,\n",
              " 1180,\n",
              " 1180,\n",
              " 1180,\n",
              " 1180,\n",
              " 1180,\n",
              " 1180,\n",
              " 1180,\n",
              " 1180,\n",
              " 1180,\n",
              " 1180,\n",
              " 1180,\n",
              " 1180,\n",
              " 1180,\n",
              " 1180,\n",
              " 1180,\n",
              " 1180,\n",
              " 1180,\n",
              " 1180,\n",
              " 1180,\n",
              " 1180,\n",
              " 1180,\n",
              " 1180,\n",
              " 1180,\n",
              " 1180,\n",
              " 1180,\n",
              " 1180,\n",
              " 1180,\n",
              " 1180,\n",
              " 1180,\n",
              " 1180,\n",
              " 1180,\n",
              " 1180,\n",
              " 1180,\n",
              " 1180,\n",
              " 1180,\n",
              " 1180,\n",
              " 1180,\n",
              " 1180,\n",
              " 1180,\n",
              " 1180,\n",
              " 1180,\n",
              " 1180,\n",
              " 1180,\n",
              " 1180,\n",
              " 1180,\n",
              " 1180,\n",
              " 1180,\n",
              " 1180,\n",
              " 1180,\n",
              " 1180,\n",
              " 1180,\n",
              " 1180,\n",
              " 1180,\n",
              " 1180,\n",
              " 1180,\n",
              " 1180,\n",
              " 1180,\n",
              " 1180,\n",
              " 1180,\n",
              " 1180,\n",
              " 1180,\n",
              " 1180,\n",
              " 1180,\n",
              " 1180,\n",
              " 1180,\n",
              " 1180,\n",
              " 1180,\n",
              " 1180,\n",
              " 1180,\n",
              " 1180,\n",
              " 1180,\n",
              " 1180,\n",
              " 1180,\n",
              " 1180,\n",
              " 1180,\n",
              " 1180,\n",
              " 1180,\n",
              " 1180,\n",
              " 1180,\n",
              " 1180,\n",
              " 1180,\n",
              " 1180,\n",
              " 1180,\n",
              " 1180,\n",
              " 1180,\n",
              " 1180,\n",
              " 1180,\n",
              " 1180,\n",
              " 1180,\n",
              " 1180,\n",
              " 1180,\n",
              " 1180,\n",
              " 1180,\n",
              " 1180,\n",
              " 1180,\n",
              " 1180,\n",
              " 1180,\n",
              " 1180,\n",
              " 1180,\n",
              " 1180,\n",
              " 1180,\n",
              " 1180,\n",
              " 1180,\n",
              " 1180,\n",
              " 1180,\n",
              " 1180,\n",
              " 1180,\n",
              " 1180,\n",
              " 1180,\n",
              " 1180,\n",
              " 1180,\n",
              " 1180,\n",
              " 1180,\n",
              " 1180,\n",
              " 1180,\n",
              " 1180,\n",
              " 1180,\n",
              " 1180,\n",
              " 1180,\n",
              " 1180,\n",
              " 1180,\n",
              " 1180,\n",
              " 1180,\n",
              " 1180,\n",
              " 1180,\n",
              " 1180,\n",
              " 1180,\n",
              " 1180,\n",
              " 1180,\n",
              " 1180,\n",
              " 1180,\n",
              " 1180,\n",
              " 1180,\n",
              " 1180,\n",
              " 1180,\n",
              " 1180,\n",
              " 1180,\n",
              " 1180,\n",
              " 1180,\n",
              " 1180,\n",
              " 1180,\n",
              " 1180,\n",
              " 1180,\n",
              " 1180,\n",
              " 1180,\n",
              " 1180,\n",
              " 1180,\n",
              " 1180,\n",
              " 1180,\n",
              " 1180,\n",
              " 1180,\n",
              " 1180,\n",
              " 1196,\n",
              " 1180,\n",
              " 1180,\n",
              " 1180,\n",
              " 1180,\n",
              " 1180,\n",
              " 1180,\n",
              " 1180,\n",
              " 1180,\n",
              " 1180,\n",
              " 1180,\n",
              " 1180,\n",
              " 1180,\n",
              " 1180,\n",
              " 1180,\n",
              " 1180,\n",
              " 1180,\n",
              " 1180,\n",
              " 1180,\n",
              " 1180,\n",
              " 1180,\n",
              " 1180,\n",
              " 1180,\n",
              " 1180,\n",
              " 1180,\n",
              " 1180,\n",
              " 1180,\n",
              " 1180,\n",
              " 1180,\n",
              " 1180,\n",
              " 1180,\n",
              " 1180,\n",
              " 1180,\n",
              " 1180,\n",
              " 1180,\n",
              " 1180,\n",
              " 1180,\n",
              " 1180,\n",
              " 1180,\n",
              " 1180,\n",
              " 1180,\n",
              " 1180,\n",
              " 1180,\n",
              " 1180,\n",
              " 1180,\n",
              " 1180,\n",
              " 1180,\n",
              " 1180,\n",
              " 1180,\n",
              " 1180,\n",
              " 1180,\n",
              " 1180,\n",
              " 1180,\n",
              " ...]"
            ]
          },
          "metadata": {},
          "execution_count": 11
        }
      ]
    },
    {
      "cell_type": "code",
      "source": [
        "import matplotlib.pyplot as plt\n",
        "import numpy as np\n",
        "import scipy.io as sio\n",
        "\n",
        "ecg = sio.loadmat('givenECG3.mat')['givenECG3'].reshape((-1))\n",
        "print(ecg)\n",
        "fs = 360\n",
        "time = np.arange(ecg.size) / fs\n",
        "plt.plot(time, ecg)\n",
        "plt.plot(time,r_peak_final)\n",
        "plt.xlabel(\"time in s\")\n",
        "plt.ylabel(\"ECG in mV\")\n",
        "plt.show()"
      ],
      "metadata": {
        "id": "dTnCxRxdSysP",
        "colab": {
          "base_uri": "https://localhost:8080/",
          "height": 296
        },
        "outputId": "4cba8785-ffa7-4742-f3a5-a4ae86e81075"
      },
      "execution_count": 12,
      "outputs": [
        {
          "output_type": "stream",
          "name": "stdout",
          "text": [
            "[995 995 995 ... 946 944 943]\n"
          ]
        },
        {
          "output_type": "display_data",
          "data": {
            "text/plain": [
              "<Figure size 432x288 with 1 Axes>"
            ],
            "image/png": "[encoded data removed]"
          },
          "metadata": {
            "needs_background": "light"
          }
        }
      ]
    },
    {
      "cell_type": "code",
      "source": [
        "#RR interval\n",
        "interval = []\n",
        "print(r_peak[0][1])\n",
        "for i in range(1,len(r_peak)):\n",
        "  diff = (((r_peak[i][1])/360) - ((r_peak[i-1][1])/360))\n",
        "  interval.append(diff)\n",
        "interval\n",
        "print(len(interval))"
      ],
      "metadata": {
        "colab": {
          "base_uri": "https://localhost:8080/"
        },
        "id": "QV39ePdUUumV",
        "outputId": "130999c5-f4f8-4bd0-ae12-f5b3113bfca4"
      },
      "execution_count": 13,
      "outputs": [
        {
          "output_type": "stream",
          "name": "stdout",
          "text": [
            "77\n",
            "12\n"
          ]
        }
      ]
    },
    {
      "cell_type": "code",
      "source": [
        "#Heart rate signal\n",
        "time = np.arange(np.array(interval).size) / fs\n",
        "print(time)\n",
        "print(interval)\n",
        "plt.plot(time, np.array(interval))\n",
        "plt.xlabel(\"time in s\")\n",
        "plt.ylabel(\"Heart rate signal\")\n",
        "plt.show()"
      ],
      "metadata": {
        "colab": {
          "base_uri": "https://localhost:8080/",
          "height": 351
        },
        "id": "6tbS2wgNZfSf",
        "outputId": "dc89b5a6-4005-44c3-e4c3-1ae03f2fdcdb"
      },
      "execution_count": 14,
      "outputs": [
        {
          "output_type": "stream",
          "name": "stdout",
          "text": [
            "[0.         0.00277778 0.00555556 0.00833333 0.01111111 0.01388889\n",
            " 0.01666667 0.01944444 0.02222222 0.025      0.02777778 0.03055556]\n",
            "[0.8138888888888888, 0.8138888888888889, 0.788888888888889, 0.7888888888888888, 0.7888888888888888, 0.8166666666666673, 0.655555555555555, 0.9944444444444445, 0.8416666666666668, 0.8111111111111109, 0.7916666666666661, 0.7694444444444457]\n"
          ]
        },
        {
          "output_type": "display_data",
          "data": {
            "text/plain": [
              "<Figure size 432x288 with 1 Axes>"
            ],
            "image/png": "[encoded data removed]"
          },
          "metadata": {
            "needs_background": "light"
          }
        }
      ]
    },
    {
      "cell_type": "code",
      "source": [
        "np.array(interval).mean()"
      ],
      "metadata": {
        "colab": {
          "base_uri": "https://localhost:8080/"
        },
        "id": "E1NiXFU3dpO_",
        "outputId": "ff312409-72c2-4127-f542-011936ebd39e"
      },
      "execution_count": 15,
      "outputs": [
        {
          "output_type": "execute_result",
          "data": {
            "text/plain": [
              "0.80625"
            ]
          },
          "metadata": {},
          "execution_count": 15
        }
      ]
    },
    {
      "cell_type": "code",
      "source": [
        "np.std(interval)"
      ],
      "metadata": {
        "colab": {
          "base_uri": "https://localhost:8080/"
        },
        "id": "9_EHPc29dxY_",
        "outputId": "eea131a3-f9af-45bb-974f-68dd089823de"
      },
      "execution_count": 16,
      "outputs": [
        {
          "output_type": "execute_result",
          "data": {
            "text/plain": [
              "0.07193787507544534"
            ]
          },
          "metadata": {},
          "execution_count": 16
        }
      ]
    },
    {
      "cell_type": "markdown",
      "source": [
        "# **Question 2**\n",
        "**2. Given an ECG signal “inputECG.mat”, add random noise to it. The sampling rate\n",
        "is 360 Hz. (You may use numpy.random package for generating noise)\n",
        "a. Perform synchronized averaging to remove the noise. Vary the number of\n",
        "realizations used for reconstruction of ECG signal. Plot the percentage\n",
        "root mean square difference (PRD) value versus the iteration number.**"
      ],
      "metadata": {
        "id": "pFYyPAsqdlQn"
      }
    },
    {
      "cell_type": "code",
      "source": [
        "import scipy.io\n",
        "mat2 = scipy.io.loadmat('inputECG.mat')"
      ],
      "metadata": {
        "id": "OIGZxDPPboE2"
      },
      "execution_count": 17,
      "outputs": []
    },
    {
      "cell_type": "code",
      "source": [
        "mat2"
      ],
      "metadata": {
        "colab": {
          "base_uri": "https://localhost:8080/"
        },
        "id": "cwF8fkRgeqZa",
        "outputId": "68e1515a-baf3-4074-f1be-8dab1d4c7fe5"
      },
      "execution_count": 18,
      "outputs": [
        {
          "output_type": "execute_result",
          "data": {
            "text/plain": [
              "{'__header__': b'MATLAB 5.0 MAT-file, Platform: PCWIN64, Created on: Wed Jan 25 12:30:29 2017',\n",
              " '__version__': '1.0',\n",
              " '__globals__': [],\n",
              " 'inputECG': array([[995, 995, 995, ..., 946, 944, 943]], dtype=uint16)}"
            ]
          },
          "metadata": {},
          "execution_count": 18
        }
      ]
    },
    {
      "cell_type": "code",
      "source": [
        "import matplotlib.pyplot as plt\n",
        "import numpy as np\n",
        "import scipy.io as sio\n",
        "\n",
        "ecg2 = sio.loadmat('inputECG.mat')['inputECG'].reshape((-1))\n",
        "print(ecg2)\n",
        "print(ecg2.size)\n",
        "fs = 360\n",
        "time = np.arange(ecg2.size) / fs\n",
        "plt.plot(time, ecg2)\n",
        "plt.xlabel(\"time in s\")\n",
        "plt.ylabel(\"ECG in mV\")\n",
        "plt.show()"
      ],
      "metadata": {
        "colab": {
          "base_uri": "https://localhost:8080/",
          "height": 314
        },
        "id": "SEEJOc1Ket9F",
        "outputId": "68f31866-cd2e-49cd-f9e3-a8a5b40b7be1"
      },
      "execution_count": 19,
      "outputs": [
        {
          "output_type": "stream",
          "name": "stdout",
          "text": [
            "[995 995 995 ... 946 944 943]\n",
            "3600\n"
          ]
        },
        {
          "output_type": "display_data",
          "data": {
            "text/plain": [
              "<Figure size 432x288 with 1 Axes>"
            ],
            "image/png": "[encoded data removed]"
          },
          "metadata": {
            "needs_background": "light"
          }
        }
      ]
    },
    {
      "cell_type": "code",
      "source": [
        "def TimeSynchronizedAveraging(signal,N):\n",
        "  ecg_copies = np.array([signal for i in range(N)])\n",
        "  noise = np.array([np.random.rand(3600) for i in range(N)])\n",
        "  ecg_noise = ecg_copies + noise\n",
        "  print(ecg_noise)\n",
        "  average_signal = np.mean(ecg_noise,axis=0)\n",
        "  return average_signal"
      ],
      "metadata": {
        "id": "dbHHkaT-fn-9"
      },
      "execution_count": 20,
      "outputs": []
    },
    {
      "cell_type": "code",
      "source": [
        "N = [1, 2, 5, 10, 20, 30, 40, 50, 60, 70, 80, 90, 100]\n",
        "signal = []\n",
        "for i in range(len(N)):\n",
        "  signal.append(TimeSynchronizedAveraging(ecg2,N[i]))\n",
        "print(signal)"
      ],
      "metadata": {
        "colab": {
          "base_uri": "https://localhost:8080/"
        },
        "id": "-flyJfJCfuOQ",
        "outputId": "0800da99-dd2e-4abd-bb18-16506ca41cfe"
      },
      "execution_count": 21,
      "outputs": [
        {
          "output_type": "stream",
          "name": "stdout",
          "text": [
            "[[995.10215574 995.93011808 995.58475302 ... 946.82481635 944.04793818\n",
            "  943.18822799]]\n",
            "[[995.85469428 995.48760832 995.77433144 ... 946.44908027 944.10054554\n",
            "  943.23955169]\n",
            " [995.06297644 995.20532455 995.21945407 ... 946.03722464 944.90276536\n",
            "  943.89524178]]\n",
            "[[995.79323312 995.52873839 995.05042359 ... 946.05848365 944.24954297\n",
            "  943.3168038 ]\n",
            " [995.46582454 995.67797347 995.75287889 ... 946.59631905 944.89529442\n",
            "  943.79683942]\n",
            " [995.9173955  995.97965824 995.56153595 ... 946.06681554 944.03325445\n",
            "  943.65758715]\n",
            " [995.59156436 995.73886547 995.11781557 ... 946.80959757 944.62816353\n",
            "  943.78534647]\n",
            " [995.20267109 995.08557886 995.71253031 ... 946.01382384 944.5098949\n",
            "  943.84660706]]\n",
            "[[995.40112074 995.49537504 995.60008407 ... 946.35668633 944.51473195\n",
            "  943.7317095 ]\n",
            " [995.7882853  995.63492467 995.34230724 ... 946.91361222 944.08829618\n",
            "  943.82903705]\n",
            " [995.78750043 995.90460409 995.40023225 ... 946.76710039 944.90376087\n",
            "  943.71580292]\n",
            " ...\n",
            " [995.53673888 995.54666234 995.11675655 ... 946.84233979 944.08339012\n",
            "  943.15754085]\n",
            " [995.32145384 995.88336914 995.51833783 ... 946.11692623 944.87570146\n",
            "  943.00641235]\n",
            " [995.28282202 995.33443465 995.97109167 ... 946.69143105 944.01343157\n",
            "  943.24152979]]\n",
            "[[995.84275734 995.45232056 995.84264013 ... 946.72883615 944.2049522\n",
            "  943.36112153]\n",
            " [995.61825486 995.27306747 995.76952121 ... 946.09288892 944.45508135\n",
            "  943.00149618]\n",
            " [995.60137691 995.47152261 995.0374868  ... 946.91110072 944.71786631\n",
            "  943.07946525]\n",
            " ...\n",
            " [995.91570384 995.75343362 995.57358416 ... 946.13473236 944.4892571\n",
            "  943.98625328]\n",
            " [995.3714109  995.31533572 995.57960296 ... 946.26968915 944.18698419\n",
            "  943.40113881]\n",
            " [995.50351987 995.38828165 995.62432987 ... 946.91319037 944.47952416\n",
            "  943.32429782]]\n",
            "[[995.64911157 995.71159961 995.48934509 ... 946.86569608 944.42593377\n",
            "  943.9132311 ]\n",
            " [995.84522603 995.21641278 995.85480945 ... 946.09991849 944.15550035\n",
            "  943.29770774]\n",
            " [995.68089427 995.82482021 995.20246923 ... 946.86359382 944.18399145\n",
            "  943.14468977]\n",
            " ...\n",
            " [995.98456073 995.07969449 995.46471881 ... 946.9133901  944.21495368\n",
            "  943.74485455]\n",
            " [995.32936563 995.12967822 995.38457691 ... 946.50337132 944.49893328\n",
            "  943.9109713 ]\n",
            " [995.92421961 995.51564655 995.65433496 ... 946.38946243 944.47329757\n",
            "  943.61154211]]\n",
            "[[995.64830547 995.27971485 995.66444303 ... 946.06101926 944.29295584\n",
            "  943.66762568]\n",
            " [995.6630822  995.36289081 995.54122323 ... 946.02770868 944.43746387\n",
            "  943.28851948]\n",
            " [995.86941714 995.36153131 995.36317349 ... 946.63033633 944.15333242\n",
            "  943.91251574]\n",
            " ...\n",
            " [995.88422583 995.48590977 995.96746697 ... 946.54307231 944.97147593\n",
            "  943.45427738]\n",
            " [995.97966565 995.34719388 995.81994343 ... 946.90664397 944.58640366\n",
            "  943.19370112]\n",
            " [995.00135987 995.57524341 995.5363679  ... 946.82775112 944.15481183\n",
            "  943.79527757]]\n",
            "[[995.00268836 995.79839241 995.82173956 ... 946.77956311 944.94579876\n",
            "  943.05582713]\n",
            " [995.48341965 995.74294689 995.65680942 ... 946.40350818 944.11826673\n",
            "  943.15964357]\n",
            " [995.62304319 995.91518646 995.46448919 ... 946.08745018 944.29521799\n",
            "  943.26777921]\n",
            " ...\n",
            " [995.21986917 995.17838138 995.29865686 ... 946.0114273  944.27541554\n",
            "  943.64162636]\n",
            " [995.77396619 995.94038192 995.63033762 ... 946.61949733 944.4919873\n",
            "  943.78914303]\n",
            " [995.78779815 995.85027196 995.49227139 ... 946.50296434 944.88918014\n",
            "  943.13440584]]\n",
            "[[995.72137056 995.0226047  995.00073307 ... 946.00264897 944.60718798\n",
            "  943.51627546]\n",
            " [995.72498146 995.07501272 995.60146258 ... 946.93205113 944.52454631\n",
            "  943.5836482 ]\n",
            " [995.50632354 995.68055033 995.31163147 ... 946.36658394 944.79450261\n",
            "  943.29663326]\n",
            " ...\n",
            " [995.50020321 995.62839779 995.21833561 ... 946.63406222 944.40204268\n",
            "  943.38973852]\n",
            " [995.62134852 995.02928068 995.22473715 ... 946.85162966 944.9923514\n",
            "  943.8155572 ]\n",
            " [995.35908585 995.71783503 995.59958673 ... 946.56403575 944.15347846\n",
            "  943.1655886 ]]\n",
            "[[995.06485916 995.64923766 995.17633424 ... 946.47272314 944.8421306\n",
            "  943.69043531]\n",
            " [995.55811888 995.60577431 995.65089387 ... 946.08126854 944.53892981\n",
            "  943.62543102]\n",
            " [995.98090541 995.33686457 995.85396309 ... 946.42079498 944.75076494\n",
            "  943.51362185]\n",
            " ...\n",
            " [995.32209602 995.88747039 995.43895603 ... 946.17435215 944.27533144\n",
            "  943.63177249]\n",
            " [995.83197254 995.980895   995.32058937 ... 946.86971589 944.07881135\n",
            "  943.45117114]\n",
            " [995.9357196  995.04546601 995.93902845 ... 946.20297482 944.99241774\n",
            "  943.48677135]]\n",
            "[[995.48094542 995.31085263 995.25041316 ... 946.46860256 944.97108195\n",
            "  943.22659438]\n",
            " [995.4176852  995.88671281 995.46796526 ... 946.56182418 944.23220226\n",
            "  943.72274113]\n",
            " [995.88336216 995.61136741 995.04895417 ... 946.32595101 944.71441054\n",
            "  943.26127491]\n",
            " ...\n",
            " [995.49191037 995.19770861 995.4180431  ... 946.24248162 944.0384409\n",
            "  943.17588389]\n",
            " [995.61676585 995.76371316 995.49524621 ... 946.54251346 944.7171715\n",
            "  943.36794899]\n",
            " [995.66520683 995.65657415 995.0616055  ... 946.71609047 944.2371269\n",
            "  943.13473842]]\n",
            "[[995.53895157 995.49740779 995.19565773 ... 946.25038431 944.59892663\n",
            "  943.48266935]\n",
            " [995.90153531 995.83741499 995.87609084 ... 946.2539071  944.91346399\n",
            "  943.2387267 ]\n",
            " [995.22375685 995.96999786 995.96280476 ... 946.16114184 944.52998317\n",
            "  943.4741246 ]\n",
            " ...\n",
            " [995.64694847 995.14241561 995.64377772 ... 946.21816059 944.49650383\n",
            "  943.57021627]\n",
            " [995.82217972 995.97124044 995.65213371 ... 946.36854121 944.41898893\n",
            "  943.40317566]\n",
            " [995.49279915 995.3092741  995.86571515 ... 946.67592503 944.2449757\n",
            "  943.27971919]]\n",
            "[[995.94137706 995.13946124 995.2557137  ... 946.150579   944.82565343\n",
            "  943.0122508 ]\n",
            " [995.58223846 995.96395901 995.82959977 ... 946.75811429 944.94647029\n",
            "  943.6275031 ]\n",
            " [995.61295712 995.25306963 995.82705306 ... 946.31726062 944.08118478\n",
            "  943.27314902]\n",
            " ...\n",
            " [995.92194391 995.2149128  995.82814942 ... 946.28485495 944.00213198\n",
            "  943.75009962]\n",
            " [995.46850846 995.55785183 995.45018858 ... 946.54459794 944.95788989\n",
            "  943.69524379]\n",
            " [995.8684087  995.57897507 995.49037668 ... 946.37223712 944.53425346\n",
            "  943.18018521]]\n",
            "[array([995.10215574, 995.93011808, 995.58475302, ..., 946.82481635,\n",
            "       944.04793818, 943.18822799]), array([995.45883536, 995.34646643, 995.49689275, ..., 946.24315246,\n",
            "       944.50165545, 943.56739674]), array([995.59413772, 995.60216289, 995.43903686, ..., 946.30900793,\n",
            "       944.46323005, 943.68063678]), array([995.48563465, 995.54172313, 995.54292557, ..., 946.54800261,\n",
            "       944.38936828, 943.41230728]), array([995.6051457 , 995.49408221, 995.47089531, ..., 946.48907923,\n",
            "       944.42163465, 943.40531881]), array([995.52019743, 995.41757313, 995.53880517, ..., 946.44448381,\n",
            "       944.4827675 , 943.55346038]), array([995.5526532 , 995.50632679, 995.50408278, ..., 946.60320322,\n",
            "       944.43972192, 943.49543945]), array([995.5129799 , 995.54410339, 995.49126343, ..., 946.57566368,\n",
            "       944.47532932, 943.49064689]), array([995.47813407, 995.56628371, 995.5535176 , ..., 946.51037064,\n",
            "       944.53234041, 943.49323489]), array([995.50315492, 995.46747467, 995.51507739, ..., 946.5029591 ,\n",
            "       944.50203061, 943.52756775]), array([995.48456038, 995.50103831, 995.44396264, ..., 946.48884718,\n",
            "       944.51785231, 943.53121043]), array([995.4880372 , 995.50021967, 995.5839473 , ..., 946.50687052,\n",
            "       944.50647922, 943.51837546]), array([995.48850427, 995.50147916, 995.45594275, ..., 946.4766371 ,\n",
            "       944.4515055 , 943.5325568 ])]\n"
          ]
        }
      ]
    },
    {
      "cell_type": "code",
      "source": [
        "print(sum(N))\n",
        "print(len(signal))"
      ],
      "metadata": {
        "colab": {
          "base_uri": "https://localhost:8080/"
        },
        "id": "utfF9UbqMpHh",
        "outputId": "92ad5656-bf33-4104-c34f-d81cdccd0206"
      },
      "execution_count": 22,
      "outputs": [
        {
          "output_type": "stream",
          "name": "stdout",
          "text": [
            "558\n",
            "13\n"
          ]
        }
      ]
    },
    {
      "cell_type": "code",
      "source": [
        "def PRD(ecg2,reconstruct_signal):\n",
        "  p = 0\n",
        "  q = 0\n",
        "  for i in range(len(ecg2)):\n",
        "    p = p + (ecg2[i] - reconstruct_signal[i])**2\n",
        "    q = q + (ecg2[i])**2\n",
        "  r = p/q\n",
        "  prd = np.sqrt(r) * 100\n",
        "  return prd\n"
      ],
      "metadata": {
        "id": "IixGRzMJM9pT"
      },
      "execution_count": 23,
      "outputs": []
    },
    {
      "cell_type": "code",
      "source": [
        "prd = []\n",
        "for i in range(len(signal)):\n",
        "  prd.append(PRD(ecg2,signal[i]))\n",
        "prd"
      ],
      "metadata": {
        "colab": {
          "base_uri": "https://localhost:8080/"
        },
        "id": "0uBkz536NreV",
        "outputId": "77da9061-befd-4b0f-a208-f735f81739cd"
      },
      "execution_count": 24,
      "outputs": [
        {
          "output_type": "execute_result",
          "data": {
            "text/plain": [
              "[0.05927711324987554,\n",
              " 0.056432194924303965,\n",
              " 0.05368917636952529,\n",
              " 0.05289715789754233,\n",
              " 0.05246632268546171,\n",
              " 0.05250290836662315,\n",
              " 0.05224436178847179,\n",
              " 0.05231991350510296,\n",
              " 0.052425668913142764,\n",
              " 0.05211739901007074,\n",
              " 0.052107939693613534,\n",
              " 0.05204851028331468,\n",
              " 0.05214439645421466]"
            ]
          },
          "metadata": {},
          "execution_count": 24
        }
      ]
    },
    {
      "cell_type": "code",
      "source": [
        "plt.plot(N,prd)"
      ],
      "metadata": {
        "colab": {
          "base_uri": "https://localhost:8080/",
          "height": 282
        },
        "id": "21LSNlA7OA8a",
        "outputId": "e811e0ea-7b38-4d0c-9fd8-f61c8359a47f"
      },
      "execution_count": 25,
      "outputs": [
        {
          "output_type": "execute_result",
          "data": {
            "text/plain": [
              "[<matplotlib.lines.Line2D at 0x7f4520564d90>]"
            ]
          },
          "metadata": {},
          "execution_count": 25
        },
        {
          "output_type": "display_data",
          "data": {
            "text/plain": [
              "<Figure size 432x288 with 1 Axes>"
            ],
            "image/png": "[encoded data removed]"
          },
          "metadata": {
            "needs_background": "light"
          }
        }
      ]
    },
    {
      "cell_type": "code",
      "source": [
        "# import matplotlib.pyplot as plt\n",
        "# import numpy as np\n",
        "# import scipy.io as sio\n",
        "\n",
        "# # ecg2 = sio.loadmat('inputECG.mat')['inputECG'].reshape((-1))\n",
        "# # print(ecg2)\n",
        "# # print(ecg2.size)\n",
        "# fs = 360\n",
        "# time = np.arange(signal.size) / fs\n",
        "# plt.plot(time, signal)\n",
        "# plt.xlabel(\"time in s\")\n",
        "# plt.ylabel(\"ECG with noise in mV\")\n",
        "# plt.show()\n",
        "# print(signal)"
      ],
      "metadata": {
        "id": "VhDyunJ3fyOo"
      },
      "execution_count": 26,
      "outputs": []
    },
    {
      "cell_type": "markdown",
      "source": [
        "# **Question 3**\n",
        "**3. Given the ECG signal, “givenECG3.mat”. The sampling rate is 360 Hz.\n",
        "a. Add baseline wander noise (0-1 Hz sinusoid) and powerline\n",
        "interference (50 Hz sinusoid) to it. Use various filters to eliminate these\n",
        "noises from ECG.\n",
        "b. Compute PRD value between the filtered signal and the original ECG\n",
        "signal for each filtering case.**"
      ],
      "metadata": {
        "id": "3q7LZdvUu58A"
      }
    },
    {
      "cell_type": "code",
      "source": [
        "import numpy as np\n",
        "import matplotlib.pyplot as plt\n",
        "import scipy.io\n",
        "import math\n",
        "mat3 = scipy.io.loadmat('givenECG3.mat')"
      ],
      "metadata": {
        "id": "JDFl4GPBgAoK"
      },
      "execution_count": 27,
      "outputs": []
    },
    {
      "cell_type": "code",
      "source": [
        "mat3"
      ],
      "metadata": {
        "colab": {
          "base_uri": "https://localhost:8080/"
        },
        "id": "-UhLyJFhvLlP",
        "outputId": "ce753193-c7db-4fb1-e02c-e61dc2e5163d"
      },
      "execution_count": 28,
      "outputs": [
        {
          "output_type": "execute_result",
          "data": {
            "text/plain": [
              "{'__header__': b'MATLAB 5.0 MAT-file, Platform: PCWIN64, Created on: Tue Jan 10 19:30:32 2017',\n",
              " '__version__': '1.0',\n",
              " '__globals__': [],\n",
              " 'givenECG3': array([[995, 995, 995, ..., 946, 944, 943]], dtype=uint16)}"
            ]
          },
          "metadata": {},
          "execution_count": 28
        }
      ]
    },
    {
      "cell_type": "code",
      "source": [
        "#Creating baseline_wander\n",
        "f = 0.5\n",
        "fs = 360\n",
        "print(np.pi)\n",
        "ecg3 = mat3['givenECG3'].reshape((-1))\n",
        "print(ecg3.size)\n",
        "Amp = (max(ecg3) - min(ecg3))*0.5\n",
        "time = np.arange(ecg3.size)/fs\n",
        "print(np.arange(ecg3.size))\n",
        "print(time)\n",
        "baseline_wander = []\n",
        "for i in range(len(time)):\n",
        "  p = Amp * math.sin(2*np.pi*f*time[i])\n",
        "  baseline_wander.append(p)\n",
        "baseline_wander\n",
        "print(len(baseline_wander))"
      ],
      "metadata": {
        "colab": {
          "base_uri": "https://localhost:8080/"
        },
        "id": "9Kr7modWvMbP",
        "outputId": "e3987fed-953d-42d6-ad03-5fe3c997c3bd"
      },
      "execution_count": 29,
      "outputs": [
        {
          "output_type": "stream",
          "name": "stdout",
          "text": [
            "3.141592653589793\n",
            "3600\n",
            "[   0    1    2 ... 3597 3598 3599]\n",
            "[0.00000000e+00 2.77777778e-03 5.55555556e-03 ... 9.99166667e+00\n",
            " 9.99444444e+00 9.99722222e+00]\n",
            "3600\n"
          ]
        }
      ]
    },
    {
      "cell_type": "code",
      "source": [
        "#Adding baseline_wander to ecg signal\n",
        "signal_bw = np.array(ecg3) + np.array(baseline_wander)"
      ],
      "metadata": {
        "id": "SzMFI9XZvsGb"
      },
      "execution_count": 30,
      "outputs": []
    },
    {
      "cell_type": "code",
      "source": [
        "signal_bw"
      ],
      "metadata": {
        "colab": {
          "base_uri": "https://localhost:8080/"
        },
        "id": "0Y-IPFOYxzk6",
        "outputId": "680810cf-7262-48c4-e42b-1752c8d6cb0d"
      },
      "execution_count": 31,
      "outputs": [
        {
          "output_type": "execute_result",
          "data": {
            "text/plain": [
              "array([995.        , 996.40060895, 997.80111123, ..., 941.7985998 ,\n",
              "       941.19888877, 941.59939105])"
            ]
          },
          "metadata": {},
          "execution_count": 31
        }
      ]
    },
    {
      "cell_type": "code",
      "source": [
        "#Plot ECG signal with baseline wander\n",
        "fs = 360\n",
        "time = np.arange(signal_bw.size) / fs\n",
        "plt.plot(time, signal_bw)\n",
        "plt.xlabel(\"time in s\")\n",
        "plt.ylabel(\"ECG with baseline_wander in mV\")\n",
        "plt.show()\n",
        "print(signal_bw)"
      ],
      "metadata": {
        "colab": {
          "base_uri": "https://localhost:8080/",
          "height": 314
        },
        "id": "gypvdKtEx0zt",
        "outputId": "e3765945-8095-41c9-f50e-4b81f47c0e5e"
      },
      "execution_count": 32,
      "outputs": [
        {
          "output_type": "display_data",
          "data": {
            "text/plain": [
              "<Figure size 432x288 with 1 Axes>"
            ],
            "image/png": "[encoded data removed]"
          },
          "metadata": {
            "needs_background": "light"
          }
        },
        {
          "output_type": "stream",
          "name": "stdout",
          "text": [
            "[995.         996.40060895 997.80111123 ... 941.7985998  941.19888877\n",
            " 941.59939105]\n"
          ]
        }
      ]
    },
    {
      "cell_type": "code",
      "source": [
        "#High pass filter for removing baseline_wander noise from ecg signal\n",
        "from scipy.signal import butter, filtfilt\n",
        "import numpy as np\n",
        "\n",
        "def butter_highpass(cutoff, fs, order=5):\n",
        "    nyq = 0.5 * fs\n",
        "    normal_cutoff = cutoff / nyq\n",
        "    b, a = butter(order, normal_cutoff, btype='high', analog=False)\n",
        "    return b, a\n",
        "\n",
        "def butter_highpass_filter(data, cutoff, fs, order=5):\n",
        "    b, a = butter_highpass(cutoff, fs, order=order)\n",
        "    # print(b,a)\n",
        "    y = filtfilt(b, a, data)\n",
        "    # print(y)\n",
        "    return y\n",
        "\n",
        "# rawdata = np.loadtxt('sampleSignal.txt', skiprows=0)\n",
        "signal = signal_bw\n",
        "fs = 360\n",
        "\n",
        "cutoff = 1\n",
        "order = 5\n",
        "conditioned_signal = butter_highpass_filter(signal_bw, cutoff, fs, order)\n",
        "print(conditioned_signal)"
      ],
      "metadata": {
        "colab": {
          "base_uri": "https://localhost:8080/"
        },
        "id": "G49wj2tzf8wn",
        "outputId": "f2198fb6-4d21-413f-d8ad-8b354edbf49b"
      },
      "execution_count": 33,
      "outputs": [
        {
          "output_type": "stream",
          "name": "stdout",
          "text": [
            "[-12.08377125 -11.33908543 -10.59918551 ...  -6.18225438  -7.53033435\n",
            "  -7.86300027]\n"
          ]
        }
      ]
    },
    {
      "cell_type": "code",
      "source": [
        "# from scipy import signal\n",
        "# sos = signal.butter(5, 0.5, 'hp', fs=360, output='sos')\n",
        "# filtered = signal.sosfilt(sos, signal_bw)\n",
        "# filtered"
      ],
      "metadata": {
        "id": "kQ2uWNhOIJwH"
      },
      "execution_count": 34,
      "outputs": []
    },
    {
      "cell_type": "code",
      "source": [
        "# fs = 360\n",
        "# time = np.arange(filtered.size) / fs\n",
        "# plt.plot(time, filtered)\n",
        "# plt.xlabel(\"time in s\")\n",
        "# plt.ylabel(\"ECG without baseline_wander in mV\")\n",
        "# plt.show()\n",
        "# print(filtered)"
      ],
      "metadata": {
        "id": "SvkTU82xIl23"
      },
      "execution_count": 35,
      "outputs": []
    },
    {
      "cell_type": "code",
      "source": [
        "#Plot of ECG signal without baseline wander\n",
        "fs = 360\n",
        "time = np.arange(conditioned_signal.size) / fs\n",
        "plt.plot(time, conditioned_signal)\n",
        "plt.xlabel(\"time in s\")\n",
        "plt.ylabel(\"ECG without baseline_wander in mV\")\n",
        "plt.show()\n",
        "print(conditioned_signal)"
      ],
      "metadata": {
        "colab": {
          "base_uri": "https://localhost:8080/",
          "height": 314
        },
        "id": "1toKZLpCgVBg",
        "outputId": "8ebb7943-c4e0-4d26-9194-957f99c9a5af"
      },
      "execution_count": 36,
      "outputs": [
        {
          "output_type": "display_data",
          "data": {
            "text/plain": [
              "<Figure size 432x288 with 1 Axes>"
            ],
            "image/png": "[encoded data removed]"
          },
          "metadata": {
            "needs_background": "light"
          }
        },
        {
          "output_type": "stream",
          "name": "stdout",
          "text": [
            "[-12.08377125 -11.33908543 -10.59918551 ...  -6.18225438  -7.53033435\n",
            "  -7.86300027]\n"
          ]
        }
      ]
    },
    {
      "cell_type": "code",
      "source": [
        "#Finding dc value of the ecg signal and adding it to the conditioned signal obtained from high pass filter\n",
        "dc_value = np.mean(ecg3)\n",
        "print(dc_value)\n",
        "reconstructed_signal = conditioned_signal + dc_value\n",
        "reconstructed_signal"
      ],
      "metadata": {
        "colab": {
          "base_uri": "https://localhost:8080/"
        },
        "id": "ywrpKp79KvZT",
        "outputId": "3ab268d9-3918-40b7-e9c6-d3f142f3f925"
      },
      "execution_count": 37,
      "outputs": [
        {
          "output_type": "stream",
          "name": "stdout",
          "text": [
            "960.0155555555556\n"
          ]
        },
        {
          "output_type": "execute_result",
          "data": {
            "text/plain": [
              "array([947.93178431, 948.67647013, 949.41637004, ..., 953.83330117,\n",
              "       952.48522121, 952.15255529])"
            ]
          },
          "metadata": {},
          "execution_count": 37
        }
      ]
    },
    {
      "cell_type": "code",
      "source": [
        "#Plot of reconstructed signal\n",
        "fs = 360\n",
        "time = np.arange(reconstructed_signal.size) / fs\n",
        "plt.plot(time, reconstructed_signal)\n",
        "plt.xlabel(\"time in s\")\n",
        "plt.ylabel(\"ECG without baseline_wander in mV\")\n",
        "plt.show()\n",
        "print(reconstructed_signal)"
      ],
      "metadata": {
        "colab": {
          "base_uri": "https://localhost:8080/",
          "height": 314
        },
        "id": "v5oUpAYhLLNQ",
        "outputId": "a946efa1-c447-4b82-cd23-9c6c1d4eb079"
      },
      "execution_count": 38,
      "outputs": [
        {
          "output_type": "display_data",
          "data": {
            "text/plain": [
              "<Figure size 432x288 with 1 Axes>"
            ],
            "image/png": "[encoded data removed]"
          },
          "metadata": {
            "needs_background": "light"
          }
        },
        {
          "output_type": "stream",
          "name": "stdout",
          "text": [
            "[947.93178431 948.67647013 949.41637004 ... 953.83330117 952.48522121\n",
            " 952.15255529]\n"
          ]
        }
      ]
    },
    {
      "cell_type": "code",
      "source": [
        "#Find PRD\n",
        "s=0\n",
        "r=0\n",
        "for i in range(len(reconstructed_signal)):\n",
        "  s = s + (ecg3[i] - reconstructed_signal[i]) **2\n",
        "  r = r + (ecg3[i])**2\n"
      ],
      "metadata": {
        "id": "7O3wWcl7LXEp"
      },
      "execution_count": 39,
      "outputs": []
    },
    {
      "cell_type": "code",
      "source": [
        "print(s)\n",
        "print(r)"
      ],
      "metadata": {
        "colab": {
          "base_uri": "https://localhost:8080/"
        },
        "id": "oHgilKCYLnpf",
        "outputId": "dbf81331-2cf6-4300-d051-3596bb5a8328"
      },
      "execution_count": 40,
      "outputs": [
        {
          "output_type": "stream",
          "name": "stdout",
          "text": [
            "127751.04723059158\n",
            "3322040050\n"
          ]
        }
      ]
    },
    {
      "cell_type": "code",
      "source": [
        "prd1 = np.sqrt(s/r)*100\n",
        "prd1"
      ],
      "metadata": {
        "colab": {
          "base_uri": "https://localhost:8080/"
        },
        "id": "AcpjRZuTLqfN",
        "outputId": "cf800b1b-d324-474f-bd97-0a0b96ce9d09"
      },
      "execution_count": 41,
      "outputs": [
        {
          "output_type": "execute_result",
          "data": {
            "text/plain": [
              "0.6201258031166288"
            ]
          },
          "metadata": {},
          "execution_count": 41
        }
      ]
    },
    {
      "cell_type": "code",
      "source": [
        "#Creating Powerline interference\n",
        "f = 50\n",
        "fs = 360\n",
        "ecg3 = mat3['givenECG3'].reshape((-1))\n",
        "print(ecg3.size)\n",
        "Amp = (max(ecg3) - min(ecg3))*0.5\n",
        "time = np.arange(ecg3.size)/fs\n",
        "print(np.arange(ecg3.size))\n",
        "print(time)\n",
        "powerline_interference = []\n",
        "for i in range(len(time)):\n",
        "  w = Amp * math.sin(2*np.pi*f*time[i])\n",
        "  powerline_interference.append(w)\n",
        "powerline_interference\n",
        "print(len(powerline_interference))"
      ],
      "metadata": {
        "colab": {
          "base_uri": "https://localhost:8080/"
        },
        "id": "9c-no3h0x_Te",
        "outputId": "e3c1b7c9-235f-4e13-eca7-c937aa201210"
      },
      "execution_count": 42,
      "outputs": [
        {
          "output_type": "stream",
          "name": "stdout",
          "text": [
            "3600\n",
            "[   0    1    2 ... 3597 3598 3599]\n",
            "[0.00000000e+00 2.77777778e-03 5.55555556e-03 ... 9.99166667e+00\n",
            " 9.99444444e+00 9.99722222e+00]\n",
            "3600\n"
          ]
        }
      ]
    },
    {
      "cell_type": "code",
      "source": [
        "#Adding powerline interference to ecg signal\n",
        "signal_pi = np.array(ecg3) + np.array(powerline_interference)"
      ],
      "metadata": {
        "id": "UIGP9t8gyp25"
      },
      "execution_count": 43,
      "outputs": []
    },
    {
      "cell_type": "code",
      "source": [
        "signal_pi"
      ],
      "metadata": {
        "colab": {
          "base_uri": "https://localhost:8080/"
        },
        "id": "4V_lHZ-XyzfV",
        "outputId": "8916e797-f287-4bda-d7ee-bedd46b00a04"
      },
      "execution_count": 44,
      "outputs": [
        {
          "output_type": "execute_result",
          "data": {
            "text/plain": [
              "array([ 995.        , 1117.95013312, 1153.06164436, ...,  865.75      ,\n",
              "        785.93835564,  820.04986688])"
            ]
          },
          "metadata": {},
          "execution_count": 44
        }
      ]
    },
    {
      "cell_type": "code",
      "source": [
        "#Plot of ECG signal with powerline_interference\n",
        "fs = 360\n",
        "time = np.arange(signal_pi.size) / fs\n",
        "plt.plot(time, signal_pi)\n",
        "plt.xlabel(\"time in s\")\n",
        "plt.ylabel(\"ECG with powerline_interference in mV\")\n",
        "plt.show()\n",
        "print(signal_pi)"
      ],
      "metadata": {
        "colab": {
          "base_uri": "https://localhost:8080/",
          "height": 317
        },
        "id": "IrdgiMF0y0qx",
        "outputId": "00e8a806-ee2e-412b-ac1b-68519b1ed2c6"
      },
      "execution_count": 45,
      "outputs": [
        {
          "output_type": "display_data",
          "data": {
            "text/plain": [
              "<Figure size 432x288 with 1 Axes>"
            ],
            "image/png": "[encoded data removed]"
          },
          "metadata": {
            "needs_background": "light"
          }
        },
        {
          "output_type": "stream",
          "name": "stdout",
          "text": [
            "[ 995.         1117.95013312 1153.06164436 ...  865.75        785.93835564\n",
            "  820.04986688]\n"
          ]
        }
      ]
    },
    {
      "cell_type": "code",
      "source": [
        "#Notch filter for removing of powerline interference from ecg signal\n",
        "from scipy import signal\n",
        "from scipy.signal import butter, iirnotch, lfilter\n",
        "import numpy as np\n",
        "import matplotlib.pyplot as plt\n",
        "\n",
        "def notch_filter(cutoff, q):\n",
        "    nyq = 0.5*fs\n",
        "    freq = cutoff/nyq\n",
        "    b, a = iirnotch(freq, q)\n",
        "    return b, a\n",
        "\n",
        "\n",
        "def notch(data, powerline, q):\n",
        "    b,a = notch_filter(powerline,q)\n",
        "    z = lfilter(b,a,data)\n",
        "    return z\n",
        "\n",
        "signal = signal_pi\n",
        "fs = 360\n",
        "\n",
        "powerline = 50\n",
        "order = 6\n",
        "q=20\n",
        "\n",
        "filtered_signal = notch(signal_pi,powerline,q)\n"
      ],
      "metadata": {
        "id": "x3IuqW89zBKO"
      },
      "execution_count": 46,
      "outputs": []
    },
    {
      "cell_type": "code",
      "source": [
        "filtered_signal"
      ],
      "metadata": {
        "colab": {
          "base_uri": "https://localhost:8080/"
        },
        "id": "U3CvHXzzllKK",
        "outputId": "d0044578-bc14-4877-d389-7c8e9c4be643"
      },
      "execution_count": 47,
      "outputs": [
        {
          "output_type": "execute_result",
          "data": {
            "text/plain": [
              "array([ 973.75264177, 1067.34549437, 1106.35944234, ...,  942.85095821,\n",
              "        943.0135821 ,  944.83757916])"
            ]
          },
          "metadata": {},
          "execution_count": 47
        }
      ]
    },
    {
      "cell_type": "code",
      "source": [
        "#Plot of ECG signal without powerline interference\n",
        "fs = 360\n",
        "time = np.arange(filtered_signal.size) / fs\n",
        "plt.plot(time, filtered_signal)\n",
        "plt.xlabel(\"time in s\")\n",
        "plt.ylabel(\"ECG without powerline_interference in mV\")\n",
        "plt.show()\n",
        "print(filtered_signal)"
      ],
      "metadata": {
        "colab": {
          "base_uri": "https://localhost:8080/",
          "height": 314
        },
        "id": "dZyVDBpZnIHy",
        "outputId": "6c0faa68-7cac-432b-95a3-ffd4ffc6c1e9"
      },
      "execution_count": 48,
      "outputs": [
        {
          "output_type": "display_data",
          "data": {
            "text/plain": [
              "<Figure size 432x288 with 1 Axes>"
            ],
            "image/png": "[encoded data removed]"
          },
          "metadata": {
            "needs_background": "light"
          }
        },
        {
          "output_type": "stream",
          "name": "stdout",
          "text": [
            "[ 973.75264177 1067.34549437 1106.35944234 ...  942.85095821  943.0135821\n",
            "  944.83757916]\n"
          ]
        }
      ]
    },
    {
      "cell_type": "code",
      "source": [
        "ecg3"
      ],
      "metadata": {
        "colab": {
          "base_uri": "https://localhost:8080/"
        },
        "id": "gLhTMplAnOna",
        "outputId": "810987e7-71e1-4b65-fcea-e8b7678f8674"
      },
      "execution_count": 49,
      "outputs": [
        {
          "output_type": "execute_result",
          "data": {
            "text/plain": [
              "array([995, 995, 995, ..., 946, 944, 943], dtype=uint16)"
            ]
          },
          "metadata": {},
          "execution_count": 49
        }
      ]
    },
    {
      "cell_type": "code",
      "source": [
        "signal_pi"
      ],
      "metadata": {
        "colab": {
          "base_uri": "https://localhost:8080/"
        },
        "id": "lv1Yby5HoCUq",
        "outputId": "b6b8ad05-442b-4abd-e849-f3e903d197e4"
      },
      "execution_count": 50,
      "outputs": [
        {
          "output_type": "execute_result",
          "data": {
            "text/plain": [
              "array([ 995.        , 1117.95013312, 1153.06164436, ...,  865.75      ,\n",
              "        785.93835564,  820.04986688])"
            ]
          },
          "metadata": {},
          "execution_count": 50
        }
      ]
    },
    {
      "cell_type": "code",
      "source": [
        "filtered_signal"
      ],
      "metadata": {
        "id": "StO1Wx96oGoV",
        "colab": {
          "base_uri": "https://localhost:8080/"
        },
        "outputId": "12a94399-7888-47da-d029-ec100f20123f"
      },
      "execution_count": 51,
      "outputs": [
        {
          "output_type": "execute_result",
          "data": {
            "text/plain": [
              "array([ 973.75264177, 1067.34549437, 1106.35944234, ...,  942.85095821,\n",
              "        943.0135821 ,  944.83757916])"
            ]
          },
          "metadata": {},
          "execution_count": 51
        }
      ]
    },
    {
      "cell_type": "code",
      "source": [
        "#Find PRD\n",
        "b = 0\n",
        "a = 0\n",
        "for i in range(len(filtered_signal)):\n",
        "  a = a + (ecg3[i] - filtered_signal[i])**2\n",
        "  b = b + ecg3[i]**2\n",
        "\n",
        "  "
      ],
      "metadata": {
        "id": "h6qt0vyPGfi2"
      },
      "execution_count": 52,
      "outputs": []
    },
    {
      "cell_type": "code",
      "source": [
        "a"
      ],
      "metadata": {
        "colab": {
          "base_uri": "https://localhost:8080/"
        },
        "id": "nVEgBMhXG8mD",
        "outputId": "f05c1934-e261-42ae-92e2-366975e7e076"
      },
      "execution_count": 53,
      "outputs": [
        {
          "output_type": "execute_result",
          "data": {
            "text/plain": [
              "167923.54812609198"
            ]
          },
          "metadata": {},
          "execution_count": 53
        }
      ]
    },
    {
      "cell_type": "code",
      "source": [
        "b"
      ],
      "metadata": {
        "colab": {
          "base_uri": "https://localhost:8080/"
        },
        "id": "wxGiOflPG9Vy",
        "outputId": "0b973e0e-c5a2-47ba-a90c-065d2ed73933"
      },
      "execution_count": 54,
      "outputs": [
        {
          "output_type": "execute_result",
          "data": {
            "text/plain": [
              "3322040050"
            ]
          },
          "metadata": {},
          "execution_count": 54
        }
      ]
    },
    {
      "cell_type": "code",
      "source": [
        "c = a/b"
      ],
      "metadata": {
        "id": "NsaXma4lG-W0"
      },
      "execution_count": 55,
      "outputs": []
    },
    {
      "cell_type": "code",
      "source": [
        "prd2 = np.sqrt(c) * 100"
      ],
      "metadata": {
        "id": "KpswFujqHEBr"
      },
      "execution_count": 56,
      "outputs": []
    },
    {
      "cell_type": "code",
      "source": [
        "prd2"
      ],
      "metadata": {
        "colab": {
          "base_uri": "https://localhost:8080/"
        },
        "id": "B5_-hV21HH_6",
        "outputId": "388c7405-097b-4f31-f1e6-f9a72339408d"
      },
      "execution_count": 57,
      "outputs": [
        {
          "output_type": "execute_result",
          "data": {
            "text/plain": [
              "0.710973427017357"
            ]
          },
          "metadata": {},
          "execution_count": 57
        }
      ]
    }
  ]
}
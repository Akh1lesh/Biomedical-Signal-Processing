{
  "cells": [
    {
      "cell_type": "markdown",
      "source": [
        "**1. A set of training and test digit utterances are given in the folders\n",
        "named: “training” and “testing”. Perform digit recognition using K-\n",
        "nearest neighbor (K-NN) classifier.\n",
        "Note:\n",
        "The data file are named in the following manner;\n",
        "speakerid_digit_no. Here id stands for the identity of a subject, digit\n",
        "stands for the digit uttered by the subject, and no stands for the n th\n",
        "number of recording. e.g. speaker01_1_3 signifies that a speaker\n",
        "with id ‘01’ has uttered the digit ‘1’ for 3 rd time.**"
      ],
      "metadata": {
        "id": "noY1RcVmJBjW"
      }
    },
    {
      "cell_type": "code",
      "execution_count": 50,
      "metadata": {
        "id": "DbdFxL6jXDsh"
      },
      "outputs": [],
      "source": [
        "import numpy as np\n",
        "import pandas as pd\n",
        "import matplotlib.pyplot as plt\n",
        "import librosa"
      ]
    },
    {
      "cell_type": "code",
      "execution_count": 51,
      "metadata": {
        "id": "H3fUkg7EXJte"
      },
      "outputs": [],
      "source": [
        "x, sr = librosa.load('speaker01_0_1.wav')"
      ]
    },
    {
      "cell_type": "code",
      "execution_count": 52,
      "metadata": {
        "colab": {
          "base_uri": "https://localhost:8080/"
        },
        "id": "7kGDSHftXNKB",
        "outputId": "971b171a-3086-4871-85b6-ce185cf80a9e"
      },
      "outputs": [
        {
          "output_type": "execute_result",
          "data": {
            "text/plain": [
              "array([ 8.4030122e-05,  1.4463621e-06, -1.5069517e-04, ...,\n",
              "       -1.1635182e-04, -1.6466103e-05, -1.3998925e-04], dtype=float32)"
            ]
          },
          "metadata": {},
          "execution_count": 52
        }
      ],
      "source": [
        "x"
      ]
    },
    {
      "cell_type": "code",
      "execution_count": 53,
      "metadata": {
        "colab": {
          "base_uri": "https://localhost:8080/"
        },
        "id": "61e9QdN1XVMS",
        "outputId": "03f9e3d4-c423-45fa-913b-d6273ab3576b"
      },
      "outputs": [
        {
          "output_type": "execute_result",
          "data": {
            "text/plain": [
              "22050"
            ]
          },
          "metadata": {},
          "execution_count": 53
        }
      ],
      "source": [
        "sr"
      ]
    },
    {
      "cell_type": "code",
      "execution_count": 54,
      "metadata": {
        "id": "JE7rz8wKXVi4"
      },
      "outputs": [],
      "source": [
        "mfccs = librosa.feature.mfcc(y=x,sr=sr,n_mfcc=13)"
      ]
    },
    {
      "cell_type": "code",
      "execution_count": 55,
      "metadata": {
        "colab": {
          "base_uri": "https://localhost:8080/"
        },
        "id": "d2DIKR0eX4yM",
        "outputId": "84d2fb28-b721-4358-a2da-368f6c465f5e"
      },
      "outputs": [
        {
          "output_type": "execute_result",
          "data": {
            "text/plain": [
              "(13, 38)"
            ]
          },
          "metadata": {},
          "execution_count": 55
        }
      ],
      "source": [
        "x, sr = librosa.load('speaker01_0_2.wav')\n",
        "mfccs1 = librosa.feature.mfcc(y=x,sr=sr,n_mfcc=13)\n",
        "mfccs.shape"
      ]
    },
    {
      "cell_type": "code",
      "execution_count": 56,
      "metadata": {
        "colab": {
          "base_uri": "https://localhost:8080/"
        },
        "id": "s24fpW79YC8n",
        "outputId": "058739f1-e5f6-498a-e00e-c8c370dfe73c"
      },
      "outputs": [
        {
          "output_type": "execute_result",
          "data": {
            "text/plain": [
              "41"
            ]
          },
          "metadata": {},
          "execution_count": 56
        }
      ],
      "source": [
        "maxi = []\n",
        "for i in range(1,7):\n",
        "  for j in range(1,6):\n",
        "      x, sr = librosa.load('speaker0'+str(i) + '_0_'+str(j)+'.wav')\n",
        "      mfccs = librosa.feature.mfcc(y=x,sr=sr,n_mfcc=13)\n",
        "      maxi.append(mfccs.shape[1])\n",
        "maxi\n",
        "max_shape = max(maxi)\n",
        "max_shape\n"
      ]
    },
    {
      "cell_type": "code",
      "execution_count": 57,
      "metadata": {
        "colab": {
          "base_uri": "https://localhost:8080/"
        },
        "id": "5tKdHerXfJx6",
        "outputId": "7eb1e13e-685d-417d-ddc8-6f54aac3fc3f"
      },
      "outputs": [
        {
          "output_type": "stream",
          "name": "stdout",
          "text": [
            "(13, 29)\n"
          ]
        },
        {
          "output_type": "execute_result",
          "data": {
            "text/plain": [
              "(29, 13)"
            ]
          },
          "metadata": {},
          "execution_count": 57
        }
      ],
      "source": [
        "print(mfccs.shape)\n",
        "mfccs1 = np.matrix(mfccs)\n",
        "mfccs2 = mfccs1.transpose()\n",
        "mfccs2.shape"
      ]
    },
    {
      "cell_type": "code",
      "execution_count": 58,
      "metadata": {
        "colab": {
          "base_uri": "https://localhost:8080/"
        },
        "id": "IZ88RU8OhY5-",
        "outputId": "77d01092-0586-4e1a-faaa-bdeea0093cbe"
      },
      "outputs": [
        {
          "output_type": "execute_result",
          "data": {
            "text/plain": [
              "matrix([[-248.91078  ,   81.22266  ,  -28.124432 ,   95.61183  ,\n",
              "          -25.963129 ,   43.16329  ,  -32.195374 ,  -15.09482  ,\n",
              "           -1.4165797,   -5.505769 ,   -6.1422987,  -18.020033 ,\n",
              "            0.7662223]], dtype=float32)"
            ]
          },
          "metadata": {},
          "execution_count": 58
        }
      ],
      "source": [
        "mfccs2[0][0]"
      ]
    },
    {
      "cell_type": "code",
      "execution_count": 59,
      "metadata": {
        "id": "PYg9pH_dpgIe"
      },
      "outputs": [],
      "source": [
        "def rotate(mfccs):\n",
        "  q = []\n",
        "  for i in range(mfccs.shape[0]):\n",
        "    p = []\n",
        "    for j in range(mfccs.shape[1]):\n",
        "      p.append(mfccs[j][i])\n",
        "    q.append(p)\n",
        "  return q\n",
        "    "
      ]
    },
    {
      "cell_type": "code",
      "execution_count": 60,
      "metadata": {
        "id": "7EEfRCj_5_1O"
      },
      "outputs": [],
      "source": [
        "# mfcc_0=[]\n",
        "# mfcc_1=[]\n",
        "# mfcc_2=[]\n",
        "# mfcc_3=[]\n",
        "# mfcc_4=[]\n",
        "# mfcc_5=[]\n",
        "# mfcc_6=[]\n",
        "# mfcc_7=[]\n",
        "# mfcc_8=[]\n",
        "# mfcc_9=[]\n",
        "# mfcc_final = [mfcc_0,mfcc_1,mfcc_2,mfcc_3,mfcc_4,mfcc_5,mfcc_6,mfcc_7,mfcc_8,mfcc_9]\n",
        "# mfcc_final[0]"
      ]
    },
    {
      "cell_type": "code",
      "execution_count": 61,
      "metadata": {
        "colab": {
          "base_uri": "https://localhost:8080/"
        },
        "id": "WAUT39GvhvRa",
        "outputId": "c688241c-cad5-4a3d-cecc-073bec2612ee"
      },
      "outputs": [
        {
          "output_type": "stream",
          "name": "stdout",
          "text": [
            "1001\n",
            "848\n",
            "977\n",
            "913\n",
            "968\n",
            "884\n",
            "800\n",
            "950\n",
            "912\n",
            "903\n"
          ]
        }
      ],
      "source": [
        "mfcc_final=[]\n",
        "for k in range(10):\n",
        "  r=[]\n",
        "  for i in range(1,7):\n",
        "  # ans = []\n",
        "    for j in range(1,6):\n",
        "      x, sr = librosa.load('speaker0'+str(i) + '_'+str(k)+'_'+str(j)+'.wav')\n",
        "      mfccs = librosa.feature.mfcc(y=x,sr=sr,n_mfcc=13)\n",
        "    # print(mfccs.shape)\n",
        "      mfccs1 = np.matrix(mfccs)\n",
        "      mfccs2 = mfccs1.transpose()\n",
        "    # print(mfccs2.shape[0])\n",
        "    # print(mfccs.shape)\n",
        "      for y in range(mfccs2.shape[0]):\n",
        "        r.append(mfccs2[y])\n",
        "    # mfcc_0.append(list(mfccs2))\n",
        "    # print(len(mfcc_0))\n",
        "  # print(len(r))\n",
        "  mfcc_final.append(r)\n",
        "  print(len(mfcc_final[k]))\n",
        "       "
      ]
    },
    {
      "cell_type": "code",
      "execution_count": 62,
      "metadata": {
        "id": "ZemRlgJ3ntgq"
      },
      "outputs": [],
      "source": [
        "# mfcc_1=[]\n",
        "# r=[]\n",
        "# for i in range(1,7):\n",
        "#   # ans = []\n",
        "#   for j in range(1,6):\n",
        "#     x, sr = librosa.load('speaker0'+str(i) + '_1_'+str(j)+'.wav')\n",
        "#     mfccs = librosa.feature.mfcc(y=x,sr=sr,n_mfcc=13)\n",
        "#     # print(mfccs.shape)\n",
        "#     mfccs1 = np.matrix(mfccs)\n",
        "#     mfccs2 = mfccs1.transpose()\n",
        "#     # print(mfccs2.shape[0])\n",
        "#     # print(mfccs.shape)\n",
        "#     for y in range(mfccs2.shape[0]):\n",
        "#       mfcc_1.append(mfccs2[y])\n",
        "#     # mfcc_0.append(list(mfccs2))\n",
        "#     # print(len(mfcc_0))\n",
        "# print(len(mfcc_1))"
      ]
    },
    {
      "cell_type": "code",
      "execution_count": 63,
      "metadata": {
        "id": "lG4S8JIaZUI9"
      },
      "outputs": [],
      "source": [
        "# mfcc_0 = []\n",
        "# for i in range(1,7):\n",
        "#   for j in range(1,6):\n",
        "#       x, sr = librosa.load('speaker0'+str(i) + '_0_'+str(j)+'.wav')\n",
        "#       mfccs = librosa.feature.mfcc(y=x,sr=sr,n_mfcc=13)\n",
        "#       for k in range(13): \n",
        "#         mfcc_0.append(list(mfccs[k]))    \n",
        "# # np.array(mfcc_0).shape\n",
        "# np.array(mfcc_0[0]).shape\n",
        "# len(mfcc_0[13])"
      ]
    },
    {
      "cell_type": "code",
      "execution_count": 64,
      "metadata": {
        "id": "p8xA-OK89PnE"
      },
      "outputs": [],
      "source": [
        "# from sklearn.cluster import KMeans\n",
        "# import numpy as np\n",
        "# # >>> X = np.array([[1, 2], [1, 4], [1, 0],\n",
        "# # ...               [10, 2], [10, 4], [10, 0]])\n",
        "# kmeans = KMeans(n_clusters=2, random_state=0, n_init=\"auto\").fit(X)\n",
        "# kmeans.labels_"
      ]
    },
    {
      "cell_type": "code",
      "execution_count": 65,
      "metadata": {
        "colab": {
          "base_uri": "https://localhost:8080/"
        },
        "id": "wchEbWQa9POf",
        "outputId": "cf15024a-6ca2-434a-dc8f-443de922f224"
      },
      "outputs": [
        {
          "output_type": "stream",
          "name": "stdout",
          "text": [
            "425\n",
            "344\n",
            "401\n",
            "368\n",
            "404\n",
            "350\n",
            "327\n",
            "384\n",
            "373\n",
            "377\n"
          ]
        }
      ],
      "source": [
        "mfcc_test=[]\n",
        "for k in range(10):\n",
        "  r=[]\n",
        "  for i in range(1,5):\n",
        "  # ans = []\n",
        "    for j in range(8,11):\n",
        "      x, sr = librosa.load('speaker0'+str(i) + '_'+str(k)+'_'+str(j)+'.wav')\n",
        "      mfccs = librosa.feature.mfcc(y=x,sr=sr,n_mfcc=13)\n",
        "    # print(mfccs.shape)\n",
        "      mfccs1 = np.matrix(mfccs)\n",
        "      mfccs2 = mfccs1.transpose()\n",
        "    # print(mfccs2.shape[0])\n",
        "    # print(mfccs.shape)\n",
        "      for y in range(mfccs2.shape[0]):\n",
        "        r.append(mfccs2[y])\n",
        "    # mfcc_0.append(list(mfccs2))\n",
        "    # print(len(mfcc_0))\n",
        "  # print(len(r))\n",
        "  mfcc_test.append(r)\n",
        "  print(len(mfcc_test[k]))"
      ]
    },
    {
      "cell_type": "code",
      "execution_count": 66,
      "metadata": {
        "id": "-_Mol1W5_uFC"
      },
      "outputs": [],
      "source": [
        "x, sr = librosa.load('speaker01_2_8.wav')\n",
        "mfccs = librosa.feature.mfcc(y=x,sr=sr,n_mfcc=13)"
      ]
    },
    {
      "cell_type": "code",
      "execution_count": 67,
      "metadata": {
        "colab": {
          "base_uri": "https://localhost:8080/"
        },
        "id": "8EjelpTtBGPQ",
        "outputId": "a9786b15-f274-43cb-c3c8-d578cc5dbb1e"
      },
      "outputs": [
        {
          "output_type": "stream",
          "name": "stdout",
          "text": [
            "(13, 37)\n",
            "(37, 13)\n"
          ]
        },
        {
          "output_type": "execute_result",
          "data": {
            "text/plain": [
              "matrix([[-514.2872    ,   36.694153  ,   -6.6972837 ,   -2.4551136 ,\n",
              "           -5.763338  ,   -0.99557865,   -5.6253724 ,   -7.3749638 ,\n",
              "          -12.088687  ,   -4.627123  ,    0.97837156,   -4.4846864 ,\n",
              "            8.020094  ]], dtype=float32)"
            ]
          },
          "metadata": {},
          "execution_count": 67
        }
      ],
      "source": [
        "mfcc_final[0][0]\n",
        "print(mfccs.shape)\n",
        "mfccs = np.matrix(mfccs)\n",
        "mfccs = mfccs.transpose()\n",
        "print(mfccs.shape)\n",
        "mfccs[0]"
      ]
    },
    {
      "cell_type": "code",
      "execution_count": 68,
      "metadata": {
        "id": "RN_jQJKZ_-k8"
      },
      "outputs": [],
      "source": [
        "import math\n",
        "distance = []\n",
        "distance_final=[[] for i in range(mfccs.shape[0])]\n",
        "for k in range(mfccs.shape[0]):\n",
        "  p = math.inf\n",
        "  q = 0\n",
        "  distance = []\n",
        "  dist = 0\n",
        "  for i in range(len(mfcc_final)):\n",
        "    for j in range(len(mfcc_final[i])):\n",
        "      dist = dist +  np.linalg.norm(mfccs[k] - mfcc_final[i][j])\n",
        "    dist = dist/len(mfcc_final[i])\n",
        "    # if(dist<p):\n",
        "    #   p = dist\n",
        "    #   q = i\n",
        "    distance.append(dist)\n",
        "  # print(len(distance))\n",
        "  d = min(distance)\n",
        "  t = distance.index(d)\n",
        "  distance_final[k].append(min(distance))\n",
        "  distance_final[k].append(t)\n",
        "    "
      ]
    },
    {
      "cell_type": "code",
      "execution_count": 69,
      "metadata": {
        "colab": {
          "base_uri": "https://localhost:8080/"
        },
        "id": "XjCA-bxBk0U7",
        "outputId": "b8f531ca-cf67-4303-c25b-cd2bc7ede672"
      },
      "outputs": [
        {
          "output_type": "execute_result",
          "data": {
            "text/plain": [
              "37"
            ]
          },
          "metadata": {},
          "execution_count": 69
        }
      ],
      "source": [
        "len(distance_final)"
      ]
    },
    {
      "cell_type": "code",
      "execution_count": 70,
      "metadata": {
        "colab": {
          "base_uri": "https://localhost:8080/"
        },
        "id": "akIzNywypJLd",
        "outputId": "0fa3a970-5e93-42dc-da37-792c1c1efcf4"
      },
      "outputs": [
        {
          "output_type": "execute_result",
          "data": {
            "text/plain": [
              "[[186.14202799303797, 2],\n",
              " [173.75722260957974, 2],\n",
              " [170.96291193794482, 2],\n",
              " [171.68064801186569, 2],\n",
              " [172.1852477404787, 2],\n",
              " [170.39000967648352, 2],\n",
              " [166.95299863411796, 2],\n",
              " [183.4633842035306, 4],\n",
              " [216.3095677838809, 4],\n",
              " [221.08425238524364, 4],\n",
              " [207.4615099247518, 4],\n",
              " [202.13882505926534, 4],\n",
              " [200.80373789575404, 4],\n",
              " [197.03538899966784, 2],\n",
              " [197.7932980806762, 2],\n",
              " [199.33223372487163, 2],\n",
              " [200.47777892146988, 2],\n",
              " [205.13700664531194, 2],\n",
              " [205.39922253968217, 2],\n",
              " [207.06612431856007, 2],\n",
              " [205.14579035283973, 2],\n",
              " [201.6344601737926, 2],\n",
              " [199.96690962525506, 2],\n",
              " [196.1823919235839, 2],\n",
              " [190.0008481910722, 2],\n",
              " [181.0653247232661, 2],\n",
              " [173.56970752972668, 2],\n",
              " [168.19201954157398, 2],\n",
              " [168.27832823544887, 2],\n",
              " [173.9296392483135, 2],\n",
              " [182.5907470271691, 2],\n",
              " [190.5614093148312, 2],\n",
              " [200.39330890769642, 2],\n",
              " [210.9986274491124, 2],\n",
              " [218.17440388131521, 2],\n",
              " [219.6503116205645, 2],\n",
              " [222.10257679026637, 2]]"
            ]
          },
          "metadata": {},
          "execution_count": 70
        }
      ],
      "source": [
        "distance_final"
      ]
    },
    {
      "cell_type": "code",
      "execution_count": 71,
      "metadata": {
        "id": "ZMx44eKrlvP9"
      },
      "outputs": [],
      "source": [
        "# w = []\n",
        "# for i in range(10):\n",
        "#   w.append(distance.count(i))\n",
        "# w"
      ]
    },
    {
      "cell_type": "code",
      "execution_count": 72,
      "metadata": {
        "id": "otKn4yE36JDF"
      },
      "outputs": [],
      "source": [
        "# for i in range(len(mfcc_0)):\n",
        "#   if(len(mfcc_0[i])< max_shape):\n",
        "#     diff = max_shape - len(mfcc_0[i])\n",
        "#     for j in range(diff):\n",
        "#       mfcc_0[i].append(0)\n",
        "# len(mfcc_0[13])"
      ]
    },
    {
      "cell_type": "code",
      "execution_count": 73,
      "metadata": {
        "id": "QzJs_LG96jtD"
      },
      "outputs": [],
      "source": [
        "# sum = np.array([ 0 for l in range(max_shape)])\n",
        "# for i in range(len(mfcc_0)):\n",
        "#   sum = sum + np.array(mfcc_0[i])\n",
        "# sum\n",
        "# mfcc_0_final = np.array(sum)/(max_shape)\n",
        "# mfcc_0_final"
      ]
    },
    {
      "cell_type": "code",
      "execution_count": 74,
      "metadata": {
        "id": "6oeA8zE--4PI"
      },
      "outputs": [],
      "source": [
        "# mfcc_final = []\n",
        "# #digit 1\n",
        "# # mfcc_digit = [mfcc_0,mfcc_1,mfcc_2,mfcc_3,mfcc_4,mfcc_5,mfcc_6,mfcc_7,mfcc_8,mfcc_9]\n",
        "# count = 0\n",
        "# for m in range(10):\n",
        "#   maxi = []\n",
        "#   for i in range(1,7):\n",
        "#     for j in range(1,6):\n",
        "#         x, sr = librosa.load('speaker0'+str(i) + '_'+str(m)+'_'+str(j)+'.wav')\n",
        "#         count = count + 1\n",
        "#         mfccs = librosa.feature.mfcc(y=x,sr=sr,n_mfcc=13)\n",
        "#         maxi.append(mfccs.shape[1])\n",
        "# # maxi\n",
        "#   max_shape = max(maxi)\n",
        "#   print(max_shape)\n",
        "\n",
        "#   mfcc_digit = []\n",
        "#   for i in range(1,7):\n",
        "#     for j in range(1,6):\n",
        "#         x, sr = librosa.load('speaker0'+str(i) + '_'+str(m)+'_'+str(j)+'.wav')\n",
        "#         mfccs = librosa.feature.mfcc(y=x,sr=sr,n_mfcc=13)\n",
        "#         for k in range(13): \n",
        "#           mfcc_digit.append(list(mfccs[k]))    \n",
        "# # np.array(mfcc_0).shape\n",
        "#   print(np.array(mfcc_digit).shape)\n",
        "#   # len(mfcc_di[13])\n",
        "\n",
        "#   for i in range(len(mfcc_digit)):\n",
        "#     if(len(mfcc_digit[i])< max_shape):\n",
        "#       diff = max_shape - len(mfcc_digit[i])\n",
        "#       for j in range(diff):\n",
        "#         mfcc_digit[i].append(0)\n",
        "#     mfcc_final.append(mfcc_digit[i])\n",
        "#   print(np.array(mfcc_final).shape)\n",
        "#   # len(mfcc_1[13])\n",
        "\n",
        "#   # sum = np.array([ 0 for l in range(max_shape)])\n",
        "#   # for i in range(len(mfcc_digit)):\n",
        "#   #   sum = sum + np.array(mfcc_digit[i])\n",
        "#   # sum\n",
        "#   # mfcc_digit_final = np.array(sum)/(max_shape)\n",
        "   \n",
        "# print(count)"
      ]
    },
    {
      "cell_type": "code",
      "execution_count": 75,
      "metadata": {
        "id": "BGqQryrHnN9g"
      },
      "outputs": [],
      "source": [
        "# train = []\n",
        "# for i in range(len(mfcc_final)):\n",
        "#   train.append(list(mfcc_final[i]))\n",
        "\n",
        "# mfcc_train = []\n",
        "# for i in range(len(train)):\n",
        "#   if(len(train[i])< 41):\n",
        "#     diff = 41 - len(train[i])\n",
        "#     for j in range(diff):\n",
        "#       train[i].append(0)\n",
        "#   mfcc_train.append(train[i])\n",
        "# len(mfcc_train)"
      ]
    },
    {
      "cell_type": "code",
      "execution_count": 76,
      "metadata": {
        "id": "HnJcNI9ZoVWC"
      },
      "outputs": [],
      "source": [
        "# from sklearn.cluster import KMeans\n",
        "# kmeans = KMeans(n_clusters = 10, random_state = 0,n_init = 4).fit(mfcc_train)\n",
        "# kmeans.labels_"
      ]
    },
    {
      "cell_type": "code",
      "execution_count": 77,
      "metadata": {
        "id": "8jCHtSL8Cy_s"
      },
      "outputs": [],
      "source": [
        "# mfcc_final_test = []\n",
        "# #digit 1\n",
        "# # mfcc_digit = [mfcc_0,mfcc_1,mfcc_2,mfcc_3,mfcc_4,mfcc_5,mfcc_6,mfcc_7,mfcc_8,mfcc_9]\n",
        "# count = 0\n",
        "# for m in range(10):\n",
        "#   maxi = []\n",
        "#   for i in range(1,5):\n",
        "#     for j in range(8,11):\n",
        "#         x, sr = librosa.load('speaker0'+str(i) + '_'+str(m)+'_'+str(j)+'.wav')\n",
        "#         count = count + 1\n",
        "#         mfccs = librosa.feature.mfcc(y=x,sr=sr,n_mfcc=13)\n",
        "#         maxi.append(mfccs.shape[1])\n",
        "# # maxi\n",
        "#   max_shape = max(maxi)\n",
        "#   print(max_shape)\n",
        "\n",
        "#   mfcc_digit = []\n",
        "#   for i in range(1,5):\n",
        "#     for j in range(8,11):\n",
        "#         x, sr = librosa.load('speaker0'+str(i) + '_'+str(m)+'_'+str(j)+'.wav')\n",
        "#         mfccs = librosa.feature.mfcc(y=x,sr=sr,n_mfcc=13)\n",
        "#         for k in range(13): \n",
        "#           mfcc_digit.append(list(mfccs[k]))    \n",
        "# # np.array(mfcc_0).shape\n",
        "#   np.array(mfcc_digit[0]).shape\n",
        "#   # len(mfcc_di[13])\n",
        "\n",
        "#   for i in range(len(mfcc_digit)):\n",
        "#     if(len(mfcc_digit[i])< max_shape):\n",
        "#       diff = max_shape - len(mfcc_digit[i])\n",
        "#       for j in range(diff):\n",
        "#         mfcc_digit[i].append(0)\n",
        "#   # len(mfcc_1[13])\n",
        "\n",
        "#   # sum = np.array([ 0 for l in range(max_shape)])\n",
        "#   # for i in range(len(mfcc_digit)):\n",
        "#   #   sum = sum + np.array(mfcc_digit[i])\n",
        "#   # sum\n",
        "#   # mfcc_digit_final = np.array(sum)/(max_shape)\n",
        "#     mfcc_final_test.append(mfcc_digit[i])\n",
        "# print(count)"
      ]
    },
    {
      "cell_type": "code",
      "execution_count": 78,
      "metadata": {
        "id": "g7LfFLoPDKKN"
      },
      "outputs": [],
      "source": [
        "# test = []\n",
        "# for i in range(len(mfcc_final_test)):\n",
        "#   test.append(list(mfcc_final_test[i]))\n",
        "\n",
        "# mfcc_test = []\n",
        "# for i in range(len(test)):\n",
        "#   if(len(test[i])< 41):\n",
        "#     diff = 41 - len(test[i])\n",
        "#     for j in range(diff):\n",
        "#       test[i].append(0)\n",
        "#   mfcc_test.append(test[i])"
      ]
    },
    {
      "cell_type": "code",
      "execution_count": 79,
      "metadata": {
        "id": "EL8M02ELDq_N"
      },
      "outputs": [],
      "source": [
        "# train = []\n",
        "# for i in range(len(mfcc_final)):\n",
        "#   train.append(list(mfcc_final[i]))\n",
        "\n",
        "# mfcc_train = []\n",
        "# for i in range(len(train)):\n",
        "#   if(len(train[i])< 41):\n",
        "#     diff = 41 - len(train[i])\n",
        "#     for j in range(diff):\n",
        "#       train[i].append(0)\n",
        "#   mfcc_train.append(train[i])"
      ]
    },
    {
      "cell_type": "code",
      "execution_count": 80,
      "metadata": {
        "id": "48pgMTZxEpGe"
      },
      "outputs": [],
      "source": [
        "# len(mfcc_train)"
      ]
    },
    {
      "cell_type": "code",
      "execution_count": 81,
      "metadata": {
        "id": "CUrcQpsbGHDi"
      },
      "outputs": [],
      "source": [
        "# distance = []\n",
        "# for i in range(len(mfcc_test)):\n",
        "#   dist = []\n",
        "#   for j in range(len(mfcc_train)):\n",
        "#     dist.append(np.linalg.norm(np.array(mfcc_test[i]) - np.array(mfcc_train[j])))\n",
        "#   print(dist)\n",
        "#   distance.append(dist.index(min(dist)))"
      ]
    },
    {
      "cell_type": "code",
      "execution_count": 82,
      "metadata": {
        "id": "ZK47UbhlHEes"
      },
      "outputs": [],
      "source": [
        "# distance"
      ]
    },
    {
      "cell_type": "code",
      "execution_count": 82,
      "metadata": {
        "id": "qDGL1iT3HTf0"
      },
      "outputs": [],
      "source": []
    }
  ],
  "metadata": {
    "colab": {
      "provenance": []
    },
    "kernelspec": {
      "display_name": "Python 3 (ipykernel)",
      "language": "python",
      "name": "python3"
    },
    "language_info": {
      "codemirror_mode": {
        "name": "ipython",
        "version": 3
      },
      "file_extension": ".py",
      "mimetype": "text/x-python",
      "name": "python",
      "nbconvert_exporter": "python",
      "pygments_lexer": "ipython3",
      "version": "3.6.9"
    }
  },
  "nbformat": 4,
  "nbformat_minor": 0
}